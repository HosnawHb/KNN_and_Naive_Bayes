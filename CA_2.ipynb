{
  "nbformat": 4,
  "nbformat_minor": 0,
  "metadata": {
    "colab": {
      "provenance": [],
      "collapsed_sections": [
        "nV9MCyvGpqHQ",
        "XkBbCDKIpzZN"
      ],
      "authorship_tag": "ABX9TyNr5LkiQ7IpsNcD5fO1WVig",
      "include_colab_link": true
    },
    "kernelspec": {
      "name": "python3",
      "display_name": "Python 3"
    },
    "language_info": {
      "name": "python"
    }
  },
  "cells": [
    {
      "cell_type": "markdown",
      "metadata": {
        "id": "view-in-github",
        "colab_type": "text"
      },
      "source": [
        "<a href=\"https://colab.research.google.com/github/HosnawHb/KNN_and_Naive_Bayes/blob/main/CA_2.ipynb\" target=\"_parent\"><img src=\"https://colab.research.google.com/assets/colab-badge.svg\" alt=\"Open In Colab\"/></a>"
      ]
    },
    {
      "cell_type": "markdown",
      "source": [
        "# Importing Libraries"
      ],
      "metadata": {
        "id": "nV9MCyvGpqHQ"
      }
    },
    {
      "cell_type": "code",
      "execution_count": 434,
      "metadata": {
        "id": "5d7FJ6WDimc6"
      },
      "outputs": [],
      "source": [
        "import pandas as pd\n",
        "from sklearn.preprocessing import LabelEncoder\n",
        "from sklearn.neighbors import NearestNeighbors\n",
        "from sklearn.neighbors import KNeighborsClassifier\n",
        "import matplotlib.pyplot as plt\n",
        "from sklearn.model_selection import train_test_split\n",
        "from sklearn.model_selection import cross_val_score,cross_validate\n",
        "from sklearn.preprocessing import StandardScaler\n",
        "from sklearn.neighbors import KNeighborsRegressor\n",
        "from sklearn.metrics import mean_absolute_error, mean_squared_error\n",
        "from sklearn.metrics import accuracy_score\n",
        "from sklearn.metrics import classification_report, confusion_matrix\n",
        "from sklearn.metrics import make_scorer, accuracy_score, precision_score, recall_score, f1_score, confusion_matrix, mean_squared_error\n",
        "import seaborn as sns\n",
        "from sklearn.metrics import f1_score\n",
        "import numpy as np\n",
        "from sklearn.naive_bayes import GaussianNB\n",
        "import warnings\n",
        "from sklearn.metrics import confusion_matrix\n",
        "from sklearn.model_selection import KFold"
      ]
    },
    {
      "cell_type": "markdown",
      "source": [
        "# Data Loading"
      ],
      "metadata": {
        "id": "XkBbCDKIpzZN"
      }
    },
    {
      "cell_type": "code",
      "source": [
        "url = 'https://archive.ics.uci.edu/ml/machine-learning-databases/abalone/abalone.data'"
      ],
      "metadata": {
        "id": "-Dj_gszUltYo"
      },
      "execution_count": 435,
      "outputs": []
    },
    {
      "cell_type": "code",
      "source": [
        "column = ['Sex', 'Length', 'Diameter', 'Height', 'Whole weight', 'Shucked weight', 'Viscera weight', 'Shell_weight','Rings']"
      ],
      "metadata": {
        "id": "v6gJxxE0jK0N"
      },
      "execution_count": 436,
      "outputs": []
    },
    {
      "cell_type": "code",
      "source": [
        "df = pd.read_csv(url,names=column)"
      ],
      "metadata": {
        "id": "6n_Mkn7jn3X7"
      },
      "execution_count": 437,
      "outputs": []
    },
    {
      "cell_type": "code",
      "source": [
        "df.head()"
      ],
      "metadata": {
        "colab": {
          "base_uri": "https://localhost:8080/",
          "height": 0
        },
        "id": "hBelU1DFn8cO",
        "outputId": "2c914e4f-f49a-495c-9568-593c9bfd79d6"
      },
      "execution_count": 438,
      "outputs": [
        {
          "output_type": "execute_result",
          "data": {
            "text/plain": [
              "  Sex  Length  Diameter  Height  Whole weight  Shucked weight  Viscera weight  \\\n",
              "0   M   0.455     0.365   0.095        0.5140          0.2245          0.1010   \n",
              "1   M   0.350     0.265   0.090        0.2255          0.0995          0.0485   \n",
              "2   F   0.530     0.420   0.135        0.6770          0.2565          0.1415   \n",
              "3   M   0.440     0.365   0.125        0.5160          0.2155          0.1140   \n",
              "4   I   0.330     0.255   0.080        0.2050          0.0895          0.0395   \n",
              "\n",
              "   Shell_weight  Rings  \n",
              "0         0.150     15  \n",
              "1         0.070      7  \n",
              "2         0.210      9  \n",
              "3         0.155     10  \n",
              "4         0.055      7  "
            ],
            "text/html": [
              "\n",
              "  <div id=\"df-0b6909a4-06a6-4e38-86ef-85e0275bd5ab\">\n",
              "    <div class=\"colab-df-container\">\n",
              "      <div>\n",
              "<style scoped>\n",
              "    .dataframe tbody tr th:only-of-type {\n",
              "        vertical-align: middle;\n",
              "    }\n",
              "\n",
              "    .dataframe tbody tr th {\n",
              "        vertical-align: top;\n",
              "    }\n",
              "\n",
              "    .dataframe thead th {\n",
              "        text-align: right;\n",
              "    }\n",
              "</style>\n",
              "<table border=\"1\" class=\"dataframe\">\n",
              "  <thead>\n",
              "    <tr style=\"text-align: right;\">\n",
              "      <th></th>\n",
              "      <th>Sex</th>\n",
              "      <th>Length</th>\n",
              "      <th>Diameter</th>\n",
              "      <th>Height</th>\n",
              "      <th>Whole weight</th>\n",
              "      <th>Shucked weight</th>\n",
              "      <th>Viscera weight</th>\n",
              "      <th>Shell_weight</th>\n",
              "      <th>Rings</th>\n",
              "    </tr>\n",
              "  </thead>\n",
              "  <tbody>\n",
              "    <tr>\n",
              "      <th>0</th>\n",
              "      <td>M</td>\n",
              "      <td>0.455</td>\n",
              "      <td>0.365</td>\n",
              "      <td>0.095</td>\n",
              "      <td>0.5140</td>\n",
              "      <td>0.2245</td>\n",
              "      <td>0.1010</td>\n",
              "      <td>0.150</td>\n",
              "      <td>15</td>\n",
              "    </tr>\n",
              "    <tr>\n",
              "      <th>1</th>\n",
              "      <td>M</td>\n",
              "      <td>0.350</td>\n",
              "      <td>0.265</td>\n",
              "      <td>0.090</td>\n",
              "      <td>0.2255</td>\n",
              "      <td>0.0995</td>\n",
              "      <td>0.0485</td>\n",
              "      <td>0.070</td>\n",
              "      <td>7</td>\n",
              "    </tr>\n",
              "    <tr>\n",
              "      <th>2</th>\n",
              "      <td>F</td>\n",
              "      <td>0.530</td>\n",
              "      <td>0.420</td>\n",
              "      <td>0.135</td>\n",
              "      <td>0.6770</td>\n",
              "      <td>0.2565</td>\n",
              "      <td>0.1415</td>\n",
              "      <td>0.210</td>\n",
              "      <td>9</td>\n",
              "    </tr>\n",
              "    <tr>\n",
              "      <th>3</th>\n",
              "      <td>M</td>\n",
              "      <td>0.440</td>\n",
              "      <td>0.365</td>\n",
              "      <td>0.125</td>\n",
              "      <td>0.5160</td>\n",
              "      <td>0.2155</td>\n",
              "      <td>0.1140</td>\n",
              "      <td>0.155</td>\n",
              "      <td>10</td>\n",
              "    </tr>\n",
              "    <tr>\n",
              "      <th>4</th>\n",
              "      <td>I</td>\n",
              "      <td>0.330</td>\n",
              "      <td>0.255</td>\n",
              "      <td>0.080</td>\n",
              "      <td>0.2050</td>\n",
              "      <td>0.0895</td>\n",
              "      <td>0.0395</td>\n",
              "      <td>0.055</td>\n",
              "      <td>7</td>\n",
              "    </tr>\n",
              "  </tbody>\n",
              "</table>\n",
              "</div>\n",
              "      <button class=\"colab-df-convert\" onclick=\"convertToInteractive('df-0b6909a4-06a6-4e38-86ef-85e0275bd5ab')\"\n",
              "              title=\"Convert this dataframe to an interactive table.\"\n",
              "              style=\"display:none;\">\n",
              "        \n",
              "  <svg xmlns=\"http://www.w3.org/2000/svg\" height=\"24px\"viewBox=\"0 0 24 24\"\n",
              "       width=\"24px\">\n",
              "    <path d=\"M0 0h24v24H0V0z\" fill=\"none\"/>\n",
              "    <path d=\"M18.56 5.44l.94 2.06.94-2.06 2.06-.94-2.06-.94-.94-2.06-.94 2.06-2.06.94zm-11 1L8.5 8.5l.94-2.06 2.06-.94-2.06-.94L8.5 2.5l-.94 2.06-2.06.94zm10 10l.94 2.06.94-2.06 2.06-.94-2.06-.94-.94-2.06-.94 2.06-2.06.94z\"/><path d=\"M17.41 7.96l-1.37-1.37c-.4-.4-.92-.59-1.43-.59-.52 0-1.04.2-1.43.59L10.3 9.45l-7.72 7.72c-.78.78-.78 2.05 0 2.83L4 21.41c.39.39.9.59 1.41.59.51 0 1.02-.2 1.41-.59l7.78-7.78 2.81-2.81c.8-.78.8-2.07 0-2.86zM5.41 20L4 18.59l7.72-7.72 1.47 1.35L5.41 20z\"/>\n",
              "  </svg>\n",
              "      </button>\n",
              "      \n",
              "  <style>\n",
              "    .colab-df-container {\n",
              "      display:flex;\n",
              "      flex-wrap:wrap;\n",
              "      gap: 12px;\n",
              "    }\n",
              "\n",
              "    .colab-df-convert {\n",
              "      background-color: #E8F0FE;\n",
              "      border: none;\n",
              "      border-radius: 50%;\n",
              "      cursor: pointer;\n",
              "      display: none;\n",
              "      fill: #1967D2;\n",
              "      height: 32px;\n",
              "      padding: 0 0 0 0;\n",
              "      width: 32px;\n",
              "    }\n",
              "\n",
              "    .colab-df-convert:hover {\n",
              "      background-color: #E2EBFA;\n",
              "      box-shadow: 0px 1px 2px rgba(60, 64, 67, 0.3), 0px 1px 3px 1px rgba(60, 64, 67, 0.15);\n",
              "      fill: #174EA6;\n",
              "    }\n",
              "\n",
              "    [theme=dark] .colab-df-convert {\n",
              "      background-color: #3B4455;\n",
              "      fill: #D2E3FC;\n",
              "    }\n",
              "\n",
              "    [theme=dark] .colab-df-convert:hover {\n",
              "      background-color: #434B5C;\n",
              "      box-shadow: 0px 1px 3px 1px rgba(0, 0, 0, 0.15);\n",
              "      filter: drop-shadow(0px 1px 2px rgba(0, 0, 0, 0.3));\n",
              "      fill: #FFFFFF;\n",
              "    }\n",
              "  </style>\n",
              "\n",
              "      <script>\n",
              "        const buttonEl =\n",
              "          document.querySelector('#df-0b6909a4-06a6-4e38-86ef-85e0275bd5ab button.colab-df-convert');\n",
              "        buttonEl.style.display =\n",
              "          google.colab.kernel.accessAllowed ? 'block' : 'none';\n",
              "\n",
              "        async function convertToInteractive(key) {\n",
              "          const element = document.querySelector('#df-0b6909a4-06a6-4e38-86ef-85e0275bd5ab');\n",
              "          const dataTable =\n",
              "            await google.colab.kernel.invokeFunction('convertToInteractive',\n",
              "                                                     [key], {});\n",
              "          if (!dataTable) return;\n",
              "\n",
              "          const docLinkHtml = 'Like what you see? Visit the ' +\n",
              "            '<a target=\"_blank\" href=https://colab.research.google.com/notebooks/data_table.ipynb>data table notebook</a>'\n",
              "            + ' to learn more about interactive tables.';\n",
              "          element.innerHTML = '';\n",
              "          dataTable['output_type'] = 'display_data';\n",
              "          await google.colab.output.renderOutput(dataTable, element);\n",
              "          const docLink = document.createElement('div');\n",
              "          docLink.innerHTML = docLinkHtml;\n",
              "          element.appendChild(docLink);\n",
              "        }\n",
              "      </script>\n",
              "    </div>\n",
              "  </div>\n",
              "  "
            ]
          },
          "metadata": {},
          "execution_count": 438
        }
      ]
    },
    {
      "cell_type": "code",
      "source": [
        "categorical = ['Sex']\n",
        "le = LabelEncoder()\n",
        "df[categorical] = df[categorical].apply(le.fit_transform, axis=0)"
      ],
      "metadata": {
        "id": "oBN-Qhqhn-W5"
      },
      "execution_count": 439,
      "outputs": []
    },
    {
      "cell_type": "code",
      "source": [
        "df.head()"
      ],
      "metadata": {
        "colab": {
          "base_uri": "https://localhost:8080/",
          "height": 0
        },
        "id": "wZX31bmPo2iY",
        "outputId": "deaf81ab-b699-4095-dcf8-8f6003b80687"
      },
      "execution_count": 440,
      "outputs": [
        {
          "output_type": "execute_result",
          "data": {
            "text/plain": [
              "   Sex  Length  Diameter  Height  Whole weight  Shucked weight  \\\n",
              "0    2   0.455     0.365   0.095        0.5140          0.2245   \n",
              "1    2   0.350     0.265   0.090        0.2255          0.0995   \n",
              "2    0   0.530     0.420   0.135        0.6770          0.2565   \n",
              "3    2   0.440     0.365   0.125        0.5160          0.2155   \n",
              "4    1   0.330     0.255   0.080        0.2050          0.0895   \n",
              "\n",
              "   Viscera weight  Shell_weight  Rings  \n",
              "0          0.1010         0.150     15  \n",
              "1          0.0485         0.070      7  \n",
              "2          0.1415         0.210      9  \n",
              "3          0.1140         0.155     10  \n",
              "4          0.0395         0.055      7  "
            ],
            "text/html": [
              "\n",
              "  <div id=\"df-a4cb8c93-a9c1-4fe8-b70e-bd5a3ff7436f\">\n",
              "    <div class=\"colab-df-container\">\n",
              "      <div>\n",
              "<style scoped>\n",
              "    .dataframe tbody tr th:only-of-type {\n",
              "        vertical-align: middle;\n",
              "    }\n",
              "\n",
              "    .dataframe tbody tr th {\n",
              "        vertical-align: top;\n",
              "    }\n",
              "\n",
              "    .dataframe thead th {\n",
              "        text-align: right;\n",
              "    }\n",
              "</style>\n",
              "<table border=\"1\" class=\"dataframe\">\n",
              "  <thead>\n",
              "    <tr style=\"text-align: right;\">\n",
              "      <th></th>\n",
              "      <th>Sex</th>\n",
              "      <th>Length</th>\n",
              "      <th>Diameter</th>\n",
              "      <th>Height</th>\n",
              "      <th>Whole weight</th>\n",
              "      <th>Shucked weight</th>\n",
              "      <th>Viscera weight</th>\n",
              "      <th>Shell_weight</th>\n",
              "      <th>Rings</th>\n",
              "    </tr>\n",
              "  </thead>\n",
              "  <tbody>\n",
              "    <tr>\n",
              "      <th>0</th>\n",
              "      <td>2</td>\n",
              "      <td>0.455</td>\n",
              "      <td>0.365</td>\n",
              "      <td>0.095</td>\n",
              "      <td>0.5140</td>\n",
              "      <td>0.2245</td>\n",
              "      <td>0.1010</td>\n",
              "      <td>0.150</td>\n",
              "      <td>15</td>\n",
              "    </tr>\n",
              "    <tr>\n",
              "      <th>1</th>\n",
              "      <td>2</td>\n",
              "      <td>0.350</td>\n",
              "      <td>0.265</td>\n",
              "      <td>0.090</td>\n",
              "      <td>0.2255</td>\n",
              "      <td>0.0995</td>\n",
              "      <td>0.0485</td>\n",
              "      <td>0.070</td>\n",
              "      <td>7</td>\n",
              "    </tr>\n",
              "    <tr>\n",
              "      <th>2</th>\n",
              "      <td>0</td>\n",
              "      <td>0.530</td>\n",
              "      <td>0.420</td>\n",
              "      <td>0.135</td>\n",
              "      <td>0.6770</td>\n",
              "      <td>0.2565</td>\n",
              "      <td>0.1415</td>\n",
              "      <td>0.210</td>\n",
              "      <td>9</td>\n",
              "    </tr>\n",
              "    <tr>\n",
              "      <th>3</th>\n",
              "      <td>2</td>\n",
              "      <td>0.440</td>\n",
              "      <td>0.365</td>\n",
              "      <td>0.125</td>\n",
              "      <td>0.5160</td>\n",
              "      <td>0.2155</td>\n",
              "      <td>0.1140</td>\n",
              "      <td>0.155</td>\n",
              "      <td>10</td>\n",
              "    </tr>\n",
              "    <tr>\n",
              "      <th>4</th>\n",
              "      <td>1</td>\n",
              "      <td>0.330</td>\n",
              "      <td>0.255</td>\n",
              "      <td>0.080</td>\n",
              "      <td>0.2050</td>\n",
              "      <td>0.0895</td>\n",
              "      <td>0.0395</td>\n",
              "      <td>0.055</td>\n",
              "      <td>7</td>\n",
              "    </tr>\n",
              "  </tbody>\n",
              "</table>\n",
              "</div>\n",
              "      <button class=\"colab-df-convert\" onclick=\"convertToInteractive('df-a4cb8c93-a9c1-4fe8-b70e-bd5a3ff7436f')\"\n",
              "              title=\"Convert this dataframe to an interactive table.\"\n",
              "              style=\"display:none;\">\n",
              "        \n",
              "  <svg xmlns=\"http://www.w3.org/2000/svg\" height=\"24px\"viewBox=\"0 0 24 24\"\n",
              "       width=\"24px\">\n",
              "    <path d=\"M0 0h24v24H0V0z\" fill=\"none\"/>\n",
              "    <path d=\"M18.56 5.44l.94 2.06.94-2.06 2.06-.94-2.06-.94-.94-2.06-.94 2.06-2.06.94zm-11 1L8.5 8.5l.94-2.06 2.06-.94-2.06-.94L8.5 2.5l-.94 2.06-2.06.94zm10 10l.94 2.06.94-2.06 2.06-.94-2.06-.94-.94-2.06-.94 2.06-2.06.94z\"/><path d=\"M17.41 7.96l-1.37-1.37c-.4-.4-.92-.59-1.43-.59-.52 0-1.04.2-1.43.59L10.3 9.45l-7.72 7.72c-.78.78-.78 2.05 0 2.83L4 21.41c.39.39.9.59 1.41.59.51 0 1.02-.2 1.41-.59l7.78-7.78 2.81-2.81c.8-.78.8-2.07 0-2.86zM5.41 20L4 18.59l7.72-7.72 1.47 1.35L5.41 20z\"/>\n",
              "  </svg>\n",
              "      </button>\n",
              "      \n",
              "  <style>\n",
              "    .colab-df-container {\n",
              "      display:flex;\n",
              "      flex-wrap:wrap;\n",
              "      gap: 12px;\n",
              "    }\n",
              "\n",
              "    .colab-df-convert {\n",
              "      background-color: #E8F0FE;\n",
              "      border: none;\n",
              "      border-radius: 50%;\n",
              "      cursor: pointer;\n",
              "      display: none;\n",
              "      fill: #1967D2;\n",
              "      height: 32px;\n",
              "      padding: 0 0 0 0;\n",
              "      width: 32px;\n",
              "    }\n",
              "\n",
              "    .colab-df-convert:hover {\n",
              "      background-color: #E2EBFA;\n",
              "      box-shadow: 0px 1px 2px rgba(60, 64, 67, 0.3), 0px 1px 3px 1px rgba(60, 64, 67, 0.15);\n",
              "      fill: #174EA6;\n",
              "    }\n",
              "\n",
              "    [theme=dark] .colab-df-convert {\n",
              "      background-color: #3B4455;\n",
              "      fill: #D2E3FC;\n",
              "    }\n",
              "\n",
              "    [theme=dark] .colab-df-convert:hover {\n",
              "      background-color: #434B5C;\n",
              "      box-shadow: 0px 1px 3px 1px rgba(0, 0, 0, 0.15);\n",
              "      filter: drop-shadow(0px 1px 2px rgba(0, 0, 0, 0.3));\n",
              "      fill: #FFFFFF;\n",
              "    }\n",
              "  </style>\n",
              "\n",
              "      <script>\n",
              "        const buttonEl =\n",
              "          document.querySelector('#df-a4cb8c93-a9c1-4fe8-b70e-bd5a3ff7436f button.colab-df-convert');\n",
              "        buttonEl.style.display =\n",
              "          google.colab.kernel.accessAllowed ? 'block' : 'none';\n",
              "\n",
              "        async function convertToInteractive(key) {\n",
              "          const element = document.querySelector('#df-a4cb8c93-a9c1-4fe8-b70e-bd5a3ff7436f');\n",
              "          const dataTable =\n",
              "            await google.colab.kernel.invokeFunction('convertToInteractive',\n",
              "                                                     [key], {});\n",
              "          if (!dataTable) return;\n",
              "\n",
              "          const docLinkHtml = 'Like what you see? Visit the ' +\n",
              "            '<a target=\"_blank\" href=https://colab.research.google.com/notebooks/data_table.ipynb>data table notebook</a>'\n",
              "            + ' to learn more about interactive tables.';\n",
              "          element.innerHTML = '';\n",
              "          dataTable['output_type'] = 'display_data';\n",
              "          await google.colab.output.renderOutput(dataTable, element);\n",
              "          const docLink = document.createElement('div');\n",
              "          docLink.innerHTML = docLinkHtml;\n",
              "          element.appendChild(docLink);\n",
              "        }\n",
              "      </script>\n",
              "    </div>\n",
              "  </div>\n",
              "  "
            ]
          },
          "metadata": {},
          "execution_count": 440
        }
      ]
    },
    {
      "cell_type": "markdown",
      "source": [
        "# Confusion Matrix"
      ],
      "metadata": {
        "id": "pRGsV_CVUg2y"
      }
    },
    {
      "cell_type": "code",
      "source": [
        "def plot_confusionmatrix(y_train_pred,y_train,dom):\n",
        "    print(f'{dom} Confusion matrix')\n",
        "    cf = confusion_matrix(y_train_pred,y_train)\n",
        "    sns.heatmap(cf,annot=True,yticklabels=classes, xticklabels=classes,\n",
        "                cmap='Blues', fmt='g')\n",
        "    plt.tight_layout()\n",
        "    plt.show()"
      ],
      "metadata": {
        "id": "ukBOBOPNUgJ0"
      },
      "execution_count": 441,
      "outputs": []
    },
    {
      "cell_type": "markdown",
      "source": [
        "# 1."
      ],
      "metadata": {
        "id": "OkZKgLcvE4uJ"
      }
    },
    {
      "cell_type": "markdown",
      "source": [
        "## PreProcess"
      ],
      "metadata": {
        "id": "m3ossKfKFg8b"
      }
    },
    {
      "cell_type": "code",
      "source": [
        "y = df['Sex']\n",
        "X = df.drop(['Sex'],axis=1)"
      ],
      "metadata": {
        "id": "QS3Y_RCxpEGj"
      },
      "execution_count": 442,
      "outputs": []
    },
    {
      "cell_type": "code",
      "source": [
        "X.head()"
      ],
      "metadata": {
        "colab": {
          "base_uri": "https://localhost:8080/",
          "height": 268
        },
        "id": "CrSuhk2ntMIJ",
        "outputId": "3a0b2306-5ecd-425e-9a99-dd366891b61d"
      },
      "execution_count": 443,
      "outputs": [
        {
          "output_type": "execute_result",
          "data": {
            "text/plain": [
              "   Length  Diameter  Height  Whole weight  Shucked weight  Viscera weight  \\\n",
              "0   0.455     0.365   0.095        0.5140          0.2245          0.1010   \n",
              "1   0.350     0.265   0.090        0.2255          0.0995          0.0485   \n",
              "2   0.530     0.420   0.135        0.6770          0.2565          0.1415   \n",
              "3   0.440     0.365   0.125        0.5160          0.2155          0.1140   \n",
              "4   0.330     0.255   0.080        0.2050          0.0895          0.0395   \n",
              "\n",
              "   Shell_weight  Rings  \n",
              "0         0.150     15  \n",
              "1         0.070      7  \n",
              "2         0.210      9  \n",
              "3         0.155     10  \n",
              "4         0.055      7  "
            ],
            "text/html": [
              "\n",
              "  <div id=\"df-b7845c34-3408-4e5e-97d0-8b6c2e46399f\">\n",
              "    <div class=\"colab-df-container\">\n",
              "      <div>\n",
              "<style scoped>\n",
              "    .dataframe tbody tr th:only-of-type {\n",
              "        vertical-align: middle;\n",
              "    }\n",
              "\n",
              "    .dataframe tbody tr th {\n",
              "        vertical-align: top;\n",
              "    }\n",
              "\n",
              "    .dataframe thead th {\n",
              "        text-align: right;\n",
              "    }\n",
              "</style>\n",
              "<table border=\"1\" class=\"dataframe\">\n",
              "  <thead>\n",
              "    <tr style=\"text-align: right;\">\n",
              "      <th></th>\n",
              "      <th>Length</th>\n",
              "      <th>Diameter</th>\n",
              "      <th>Height</th>\n",
              "      <th>Whole weight</th>\n",
              "      <th>Shucked weight</th>\n",
              "      <th>Viscera weight</th>\n",
              "      <th>Shell_weight</th>\n",
              "      <th>Rings</th>\n",
              "    </tr>\n",
              "  </thead>\n",
              "  <tbody>\n",
              "    <tr>\n",
              "      <th>0</th>\n",
              "      <td>0.455</td>\n",
              "      <td>0.365</td>\n",
              "      <td>0.095</td>\n",
              "      <td>0.5140</td>\n",
              "      <td>0.2245</td>\n",
              "      <td>0.1010</td>\n",
              "      <td>0.150</td>\n",
              "      <td>15</td>\n",
              "    </tr>\n",
              "    <tr>\n",
              "      <th>1</th>\n",
              "      <td>0.350</td>\n",
              "      <td>0.265</td>\n",
              "      <td>0.090</td>\n",
              "      <td>0.2255</td>\n",
              "      <td>0.0995</td>\n",
              "      <td>0.0485</td>\n",
              "      <td>0.070</td>\n",
              "      <td>7</td>\n",
              "    </tr>\n",
              "    <tr>\n",
              "      <th>2</th>\n",
              "      <td>0.530</td>\n",
              "      <td>0.420</td>\n",
              "      <td>0.135</td>\n",
              "      <td>0.6770</td>\n",
              "      <td>0.2565</td>\n",
              "      <td>0.1415</td>\n",
              "      <td>0.210</td>\n",
              "      <td>9</td>\n",
              "    </tr>\n",
              "    <tr>\n",
              "      <th>3</th>\n",
              "      <td>0.440</td>\n",
              "      <td>0.365</td>\n",
              "      <td>0.125</td>\n",
              "      <td>0.5160</td>\n",
              "      <td>0.2155</td>\n",
              "      <td>0.1140</td>\n",
              "      <td>0.155</td>\n",
              "      <td>10</td>\n",
              "    </tr>\n",
              "    <tr>\n",
              "      <th>4</th>\n",
              "      <td>0.330</td>\n",
              "      <td>0.255</td>\n",
              "      <td>0.080</td>\n",
              "      <td>0.2050</td>\n",
              "      <td>0.0895</td>\n",
              "      <td>0.0395</td>\n",
              "      <td>0.055</td>\n",
              "      <td>7</td>\n",
              "    </tr>\n",
              "  </tbody>\n",
              "</table>\n",
              "</div>\n",
              "      <button class=\"colab-df-convert\" onclick=\"convertToInteractive('df-b7845c34-3408-4e5e-97d0-8b6c2e46399f')\"\n",
              "              title=\"Convert this dataframe to an interactive table.\"\n",
              "              style=\"display:none;\">\n",
              "        \n",
              "  <svg xmlns=\"http://www.w3.org/2000/svg\" height=\"24px\"viewBox=\"0 0 24 24\"\n",
              "       width=\"24px\">\n",
              "    <path d=\"M0 0h24v24H0V0z\" fill=\"none\"/>\n",
              "    <path d=\"M18.56 5.44l.94 2.06.94-2.06 2.06-.94-2.06-.94-.94-2.06-.94 2.06-2.06.94zm-11 1L8.5 8.5l.94-2.06 2.06-.94-2.06-.94L8.5 2.5l-.94 2.06-2.06.94zm10 10l.94 2.06.94-2.06 2.06-.94-2.06-.94-.94-2.06-.94 2.06-2.06.94z\"/><path d=\"M17.41 7.96l-1.37-1.37c-.4-.4-.92-.59-1.43-.59-.52 0-1.04.2-1.43.59L10.3 9.45l-7.72 7.72c-.78.78-.78 2.05 0 2.83L4 21.41c.39.39.9.59 1.41.59.51 0 1.02-.2 1.41-.59l7.78-7.78 2.81-2.81c.8-.78.8-2.07 0-2.86zM5.41 20L4 18.59l7.72-7.72 1.47 1.35L5.41 20z\"/>\n",
              "  </svg>\n",
              "      </button>\n",
              "      \n",
              "  <style>\n",
              "    .colab-df-container {\n",
              "      display:flex;\n",
              "      flex-wrap:wrap;\n",
              "      gap: 12px;\n",
              "    }\n",
              "\n",
              "    .colab-df-convert {\n",
              "      background-color: #E8F0FE;\n",
              "      border: none;\n",
              "      border-radius: 50%;\n",
              "      cursor: pointer;\n",
              "      display: none;\n",
              "      fill: #1967D2;\n",
              "      height: 32px;\n",
              "      padding: 0 0 0 0;\n",
              "      width: 32px;\n",
              "    }\n",
              "\n",
              "    .colab-df-convert:hover {\n",
              "      background-color: #E2EBFA;\n",
              "      box-shadow: 0px 1px 2px rgba(60, 64, 67, 0.3), 0px 1px 3px 1px rgba(60, 64, 67, 0.15);\n",
              "      fill: #174EA6;\n",
              "    }\n",
              "\n",
              "    [theme=dark] .colab-df-convert {\n",
              "      background-color: #3B4455;\n",
              "      fill: #D2E3FC;\n",
              "    }\n",
              "\n",
              "    [theme=dark] .colab-df-convert:hover {\n",
              "      background-color: #434B5C;\n",
              "      box-shadow: 0px 1px 3px 1px rgba(0, 0, 0, 0.15);\n",
              "      filter: drop-shadow(0px 1px 2px rgba(0, 0, 0, 0.3));\n",
              "      fill: #FFFFFF;\n",
              "    }\n",
              "  </style>\n",
              "\n",
              "      <script>\n",
              "        const buttonEl =\n",
              "          document.querySelector('#df-b7845c34-3408-4e5e-97d0-8b6c2e46399f button.colab-df-convert');\n",
              "        buttonEl.style.display =\n",
              "          google.colab.kernel.accessAllowed ? 'block' : 'none';\n",
              "\n",
              "        async function convertToInteractive(key) {\n",
              "          const element = document.querySelector('#df-b7845c34-3408-4e5e-97d0-8b6c2e46399f');\n",
              "          const dataTable =\n",
              "            await google.colab.kernel.invokeFunction('convertToInteractive',\n",
              "                                                     [key], {});\n",
              "          if (!dataTable) return;\n",
              "\n",
              "          const docLinkHtml = 'Like what you see? Visit the ' +\n",
              "            '<a target=\"_blank\" href=https://colab.research.google.com/notebooks/data_table.ipynb>data table notebook</a>'\n",
              "            + ' to learn more about interactive tables.';\n",
              "          element.innerHTML = '';\n",
              "          dataTable['output_type'] = 'display_data';\n",
              "          await google.colab.output.renderOutput(dataTable, element);\n",
              "          const docLink = document.createElement('div');\n",
              "          docLink.innerHTML = docLinkHtml;\n",
              "          element.appendChild(docLink);\n",
              "        }\n",
              "      </script>\n",
              "    </div>\n",
              "  </div>\n",
              "  "
            ]
          },
          "metadata": {},
          "execution_count": 443
        }
      ]
    },
    {
      "cell_type": "code",
      "source": [
        "X_train, X_test, y_train, y_test = train_test_split(X, y, test_size=0.1, random_state=1)\n",
        "X_train, X_val, y_train, y_val = train_test_split(X_train, y_train, test_size=0.2, random_state=1)"
      ],
      "metadata": {
        "id": "V_V5Sn4QtpCq"
      },
      "execution_count": 444,
      "outputs": []
    },
    {
      "cell_type": "code",
      "source": [
        "scaler = StandardScaler()\n",
        "scaler.fit(X_train)\n",
        "\n",
        "X_train = scaler.transform(X_train)\n",
        "X_test = scaler.transform(X_test)"
      ],
      "metadata": {
        "id": "9oUW4EpJ-oiW"
      },
      "execution_count": 445,
      "outputs": []
    },
    {
      "cell_type": "markdown",
      "source": [
        "## KNN Classification"
      ],
      "metadata": {
        "id": "xNgFtRdkBY3p"
      }
    },
    {
      "cell_type": "markdown",
      "source": [
        "### Finding The Best K For KNN Classification"
      ],
      "metadata": {
        "id": "8aQ0Y2aX__Qw"
      }
    },
    {
      "cell_type": "code",
      "source": [
        "f1s=[]\n",
        "for i in range(1, 50):\n",
        "    knn = KNeighborsClassifier(n_neighbors=i)\n",
        "    knn.fit(X_train, y_train)\n",
        "    pred_i = knn.predict(X_test)\n",
        "    f1s.append(f1_score(y_test, pred_i, average='weighted'))\n"
      ],
      "metadata": {
        "id": "atu0sWxP_ZOo"
      },
      "execution_count": 446,
      "outputs": []
    },
    {
      "cell_type": "code",
      "source": [
        "plt.figure(figsize=(12, 6))\n",
        "plt.plot(range(1, 50), f1s, color='red', linestyle='dashed', marker='o',\n",
        "         markerfacecolor='blue', markersize=10)\n",
        "plt.title('F1 Score K Value')\n",
        "plt.xlabel('K Value')\n",
        "plt.ylabel('F1 Score')"
      ],
      "metadata": {
        "colab": {
          "base_uri": "https://localhost:8080/",
          "height": 376
        },
        "id": "33tWcVfhAqhm",
        "outputId": "5b251e69-ff20-434b-de9c-d6a97e51a7ae"
      },
      "execution_count": 447,
      "outputs": [
        {
          "output_type": "execute_result",
          "data": {
            "text/plain": [
              "Text(0, 0.5, 'F1 Score')"
            ]
          },
          "metadata": {},
          "execution_count": 447
        },
        {
          "output_type": "display_data",
          "data": {
            "text/plain": [
              "<Figure size 1200x600 with 1 Axes>"
            ],
            "image/png": "[encoded data removed]"
          },
          "metadata": {}
        }
      ]
    },
    {
      "cell_type": "code",
      "source": [
        "k = [i for i in range (0,50)]\n",
        "maxF1 = np.argmax(f1s)\n",
        "BestK = k[maxF1]\n",
        "print(BestK)"
      ],
      "metadata": {
        "colab": {
          "base_uri": "https://localhost:8080/"
        },
        "id": "o4Orymp_eURh",
        "outputId": "8147ae4d-d930-47db-cc85-32b2ccd82888"
      },
      "execution_count": 448,
      "outputs": [
        {
          "output_type": "stream",
          "name": "stdout",
          "text": [
            "48\n"
          ]
        }
      ]
    },
    {
      "cell_type": "code",
      "source": [
        "classifier48 = KNeighborsClassifier(n_neighbors=BestK)\n",
        "classifier48.fit(X_train, y_train)\n",
        "y_pred48 = classifier48.predict(X_test)\n",
        "print(classification_report(y_test, y_pred48))"
      ],
      "metadata": {
        "colab": {
          "base_uri": "https://localhost:8080/"
        },
        "id": "ZdmQGfLoAwiM",
        "outputId": "a28143dd-7d95-4840-bc96-f65ad3476dbc"
      },
      "execution_count": 449,
      "outputs": [
        {
          "output_type": "stream",
          "name": "stdout",
          "text": [
            "              precision    recall  f1-score   support\n",
            "\n",
            "           0       0.49      0.40      0.44       131\n",
            "           1       0.68      0.81      0.74       126\n",
            "           2       0.52      0.52      0.52       161\n",
            "\n",
            "    accuracy                           0.57       418\n",
            "   macro avg       0.56      0.58      0.57       418\n",
            "weighted avg       0.56      0.57      0.56       418\n",
            "\n"
          ]
        }
      ]
    },
    {
      "cell_type": "markdown",
      "source": [
        "## K-Fold"
      ],
      "metadata": {
        "id": "8Grqw4nwgg1B"
      }
    },
    {
      "cell_type": "code",
      "source": [
        "XF = X.to_numpy()\n",
        "yF = y.to_numpy()"
      ],
      "metadata": {
        "id": "RuiF_RDfmdn1"
      },
      "execution_count": 450,
      "outputs": []
    },
    {
      "cell_type": "code",
      "source": [
        "kf = KFold(n_splits = 10)\n",
        "cnt =1\n",
        "report = []\n",
        "for train, test in kf.split(XF,yF):\n",
        "   X_trainF, X_testF, y_trainF, y_testF = XF[train], XF[test], yF[train], yF[test]\n",
        "   knn = KNeighborsClassifier(n_neighbors=BestK)\n",
        "   knn.fit(X_trainF, y_trainF)\n",
        "   y_predF = knn.predict(X_testF)\n",
        "   print('Fold',cnt,':')\n",
        "   print(classification_report(y_testF, y_predF))\n",
        "   print('-----------------------------------------------')\n",
        "   report.append(classification_report(y_testF, y_predF, output_dict=True))\n",
        "   cnt = cnt+1"
      ],
      "metadata": {
        "colab": {
          "base_uri": "https://localhost:8080/"
        },
        "id": "_SZiJNnRgzGz",
        "outputId": "049c38fb-6c90-4b47-95c7-f6368ca83f3b"
      },
      "execution_count": 451,
      "outputs": [
        {
          "output_type": "stream",
          "name": "stdout",
          "text": [
            "Fold 1 :\n",
            "              precision    recall  f1-score   support\n",
            "\n",
            "           0       0.45      0.32      0.37       164\n",
            "           1       0.42      0.85      0.56        78\n",
            "           2       0.47      0.38      0.42       176\n",
            "\n",
            "    accuracy                           0.44       418\n",
            "   macro avg       0.44      0.51      0.45       418\n",
            "weighted avg       0.45      0.44      0.43       418\n",
            "\n",
            "-----------------------------------------------\n",
            "Fold 2 :\n",
            "              precision    recall  f1-score   support\n",
            "\n",
            "           0       0.39      0.29      0.33       144\n",
            "           1       0.44      0.51      0.47       114\n",
            "           2       0.38      0.42      0.40       160\n",
            "\n",
            "    accuracy                           0.40       418\n",
            "   macro avg       0.40      0.41      0.40       418\n",
            "weighted avg       0.40      0.40      0.40       418\n",
            "\n",
            "-----------------------------------------------\n",
            "Fold 3 :\n",
            "              precision    recall  f1-score   support\n",
            "\n",
            "           0       0.45      0.42      0.43       113\n",
            "           1       0.78      0.97      0.86       163\n",
            "           2       0.53      0.42      0.47       142\n",
            "\n",
            "    accuracy                           0.63       418\n",
            "   macro avg       0.59      0.60      0.59       418\n",
            "weighted avg       0.61      0.63      0.61       418\n",
            "\n",
            "-----------------------------------------------\n",
            "Fold 4 :\n",
            "              precision    recall  f1-score   support\n",
            "\n",
            "           0       0.37      0.39      0.38        97\n",
            "           1       0.87      0.69      0.77       197\n",
            "           2       0.43      0.55      0.48       124\n",
            "\n",
            "    accuracy                           0.58       418\n",
            "   macro avg       0.56      0.54      0.54       418\n",
            "weighted avg       0.62      0.58      0.59       418\n",
            "\n",
            "-----------------------------------------------\n",
            "Fold 5 :\n",
            "              precision    recall  f1-score   support\n",
            "\n",
            "           0       0.39      0.39      0.39       121\n",
            "           1       0.73      0.73      0.73       132\n",
            "           2       0.49      0.49      0.49       165\n",
            "\n",
            "    accuracy                           0.54       418\n",
            "   macro avg       0.54      0.54      0.54       418\n",
            "weighted avg       0.54      0.54      0.54       418\n",
            "\n",
            "-----------------------------------------------\n",
            "Fold 6 :\n",
            "              precision    recall  f1-score   support\n",
            "\n",
            "           0       0.44      0.37      0.40       158\n",
            "           1       0.44      0.62      0.52        93\n",
            "           2       0.41      0.38      0.39       167\n",
            "\n",
            "    accuracy                           0.43       418\n",
            "   macro avg       0.43      0.46      0.44       418\n",
            "weighted avg       0.43      0.43      0.42       418\n",
            "\n",
            "-----------------------------------------------\n",
            "Fold 7 :\n",
            "              precision    recall  f1-score   support\n",
            "\n",
            "           0       0.41      0.25      0.31       113\n",
            "           1       0.87      0.87      0.87       171\n",
            "           2       0.48      0.63      0.54       134\n",
            "\n",
            "    accuracy                           0.63       418\n",
            "   macro avg       0.59      0.58      0.57       418\n",
            "weighted avg       0.62      0.63      0.61       418\n",
            "\n",
            "-----------------------------------------------\n",
            "Fold 8 :\n",
            "              precision    recall  f1-score   support\n",
            "\n",
            "           0       0.46      0.36      0.41       160\n",
            "           1       0.59      0.69      0.64        91\n",
            "           2       0.47      0.52      0.50       166\n",
            "\n",
            "    accuracy                           0.50       417\n",
            "   macro avg       0.51      0.53      0.51       417\n",
            "weighted avg       0.49      0.50      0.49       417\n",
            "\n",
            "-----------------------------------------------\n",
            "Fold 9 :\n",
            "              precision    recall  f1-score   support\n",
            "\n",
            "           0       0.35      0.34      0.34       111\n",
            "           1       0.81      0.78      0.80       169\n",
            "           2       0.43      0.45      0.44       137\n",
            "\n",
            "    accuracy                           0.56       417\n",
            "   macro avg       0.53      0.53      0.53       417\n",
            "weighted avg       0.56      0.56      0.56       417\n",
            "\n",
            "-----------------------------------------------\n",
            "Fold 10 :\n",
            "              precision    recall  f1-score   support\n",
            "\n",
            "           0       0.44      0.39      0.41       126\n",
            "           1       0.72      0.76      0.74       134\n",
            "           2       0.49      0.51      0.50       157\n",
            "\n",
            "    accuracy                           0.55       417\n",
            "   macro avg       0.55      0.55      0.55       417\n",
            "weighted avg       0.55      0.55      0.55       417\n",
            "\n",
            "-----------------------------------------------\n"
          ]
        }
      ]
    },
    {
      "cell_type": "code",
      "source": [
        "Acc=[]\n",
        "Precision=[]\n",
        "Recall=[]\n",
        "F1Score=[]\n",
        "for r in report:\n",
        "  Acc.append(r['accuracy'])\n",
        "  Precision.append(r['weighted avg']['precision'])\n",
        "  Recall.append(r['weighted avg']['recall'])\n",
        "  F1Score.append(r['weighted avg']['f1-score'])\n",
        "print('Average Accuracy cross-validation score:',np.mean(Acc))\n",
        "print('Average Precision cross-validation score:',np.mean(Precision))\n",
        "print('Average Recall cross-validation score:',np.mean(Recall))\n",
        "print('Average f1_score cross-validation score:',np.mean(F1Score))\n"
      ],
      "metadata": {
        "colab": {
          "base_uri": "https://localhost:8080/"
        },
        "id": "8HycK7RssMjm",
        "outputId": "27a16c32-e679-4c95-b2a9-22d104ade559"
      },
      "execution_count": 452,
      "outputs": [
        {
          "output_type": "stream",
          "name": "stdout",
          "text": [
            "Average Accuracy cross-validation score: 0.5257438068683808\n",
            "Average Precision cross-validation score: 0.526666285271771\n",
            "Average Recall cross-validation score: 0.5257438068683808\n",
            "Average f1_score cross-validation score: 0.5206245145635493\n"
          ]
        }
      ]
    },
    {
      "cell_type": "markdown",
      "source": [
        "## Model_Eval"
      ],
      "metadata": {
        "id": "ouirlO2vTtmX"
      }
    },
    {
      "cell_type": "code",
      "source": [
        "knn = KNeighborsClassifier(n_neighbors=BestK)\n",
        "knn.fit(X_train, y_train)\n",
        "y_pred = knn.predict(X_test)"
      ],
      "metadata": {
        "id": "3yw9S-Ou7dpk"
      },
      "execution_count": 453,
      "outputs": []
    },
    {
      "cell_type": "code",
      "source": [
        "classes = ['0','1','2']\n",
        "print(f'Test score {accuracy_score(y_pred,y_test)}')\n",
        "plot_confusionmatrix(y_pred,y_test,dom='Test')"
      ],
      "metadata": {
        "colab": {
          "base_uri": "https://localhost:8080/",
          "height": 523
        },
        "id": "lt5rHW7HUC28",
        "outputId": "474133f9-18fd-4dc2-dae6-2cd3f578121f"
      },
      "execution_count": 454,
      "outputs": [
        {
          "output_type": "stream",
          "name": "stdout",
          "text": [
            "Test score 0.569377990430622\n",
            "Test Confusion matrix\n"
          ]
        },
        {
          "output_type": "display_data",
          "data": {
            "text/plain": [
              "<Figure size 640x480 with 2 Axes>"
            ],
            "image/png": "[encoded data removed]"
          },
          "metadata": {}
        }
      ]
    },
    {
      "cell_type": "code",
      "source": [
        "print(classification_report(y_test, y_pred))"
      ],
      "metadata": {
        "colab": {
          "base_uri": "https://localhost:8080/"
        },
        "id": "acm2qDXk8aXw",
        "outputId": "2ad07ce8-6e41-423f-beb9-625f338f3ec7"
      },
      "execution_count": 455,
      "outputs": [
        {
          "output_type": "stream",
          "name": "stdout",
          "text": [
            "              precision    recall  f1-score   support\n",
            "\n",
            "           0       0.49      0.40      0.44       131\n",
            "           1       0.68      0.81      0.74       126\n",
            "           2       0.52      0.52      0.52       161\n",
            "\n",
            "    accuracy                           0.57       418\n",
            "   macro avg       0.56      0.58      0.57       418\n",
            "weighted avg       0.56      0.57      0.56       418\n",
            "\n"
          ]
        }
      ]
    },
    {
      "cell_type": "markdown",
      "source": [
        "## NB"
      ],
      "metadata": {
        "id": "vo35vJ1hQs2t"
      }
    },
    {
      "cell_type": "code",
      "source": [
        "kf = KFold(n_splits = 10)\n",
        "cnt =1\n",
        "report = []\n",
        "for train, test in kf.split(XF,yF):\n",
        "   X_trainF, X_testF, y_trainF, y_testF = XF[train], XF[test], yF[train], yF[test]\n",
        "   gnb = GaussianNB()\n",
        "   gnb.fit(X_trainF, y_trainF)\n",
        "   y_predF = gnb.predict(X_testF)\n",
        "   print('Fold',cnt,':')\n",
        "   print(classification_report(y_testF, y_predF))\n",
        "   print('-----------------------------------------------')\n",
        "   report.append(classification_report(y_testF, y_predF, output_dict=True))\n",
        "   cnt = cnt+1"
      ],
      "metadata": {
        "colab": {
          "base_uri": "https://localhost:8080/"
        },
        "outputId": "bcd860cb-eccc-4608-c162-7d9df6494030",
        "id": "Wd9cOfF92Utp"
      },
      "execution_count": 456,
      "outputs": [
        {
          "output_type": "stream",
          "name": "stdout",
          "text": [
            "Fold 1 :\n",
            "              precision    recall  f1-score   support\n",
            "\n",
            "           0       0.48      0.53      0.51       164\n",
            "           1       0.41      1.00      0.59        78\n",
            "           2       0.44      0.12      0.19       176\n",
            "\n",
            "    accuracy                           0.45       418\n",
            "   macro avg       0.45      0.55      0.43       418\n",
            "weighted avg       0.45      0.45      0.39       418\n",
            "\n",
            "-----------------------------------------------\n",
            "Fold 2 :\n",
            "              precision    recall  f1-score   support\n",
            "\n",
            "           0       0.52      0.38      0.44       144\n",
            "           1       0.39      0.75      0.51       114\n",
            "           2       0.42      0.26      0.32       160\n",
            "\n",
            "    accuracy                           0.43       418\n",
            "   macro avg       0.45      0.46      0.42       418\n",
            "weighted avg       0.45      0.43      0.41       418\n",
            "\n",
            "-----------------------------------------------\n",
            "Fold 3 :\n",
            "              precision    recall  f1-score   support\n",
            "\n",
            "           0       0.48      0.75      0.58       113\n",
            "           1       0.81      0.98      0.89       163\n",
            "           2       0.58      0.18      0.27       142\n",
            "\n",
            "    accuracy                           0.65       418\n",
            "   macro avg       0.62      0.64      0.58       418\n",
            "weighted avg       0.64      0.65      0.60       418\n",
            "\n",
            "-----------------------------------------------\n",
            "Fold 4 :\n",
            "              precision    recall  f1-score   support\n",
            "\n",
            "           0       0.39      0.75      0.51        97\n",
            "           1       0.87      0.67      0.76       197\n",
            "           2       0.28      0.18      0.22       124\n",
            "\n",
            "    accuracy                           0.54       418\n",
            "   macro avg       0.51      0.53      0.50       418\n",
            "weighted avg       0.58      0.54      0.54       418\n",
            "\n",
            "-----------------------------------------------\n",
            "Fold 5 :\n",
            "              precision    recall  f1-score   support\n",
            "\n",
            "           0       0.40      0.83      0.54       121\n",
            "           1       0.77      0.74      0.76       132\n",
            "           2       0.44      0.10      0.17       165\n",
            "\n",
            "    accuracy                           0.51       418\n",
            "   macro avg       0.53      0.56      0.49       418\n",
            "weighted avg       0.53      0.51      0.46       418\n",
            "\n",
            "-----------------------------------------------\n",
            "Fold 6 :\n",
            "              precision    recall  f1-score   support\n",
            "\n",
            "           0       0.47      0.46      0.46       158\n",
            "           1       0.36      0.81      0.50        93\n",
            "           2       0.46      0.16      0.23       167\n",
            "\n",
            "    accuracy                           0.41       418\n",
            "   macro avg       0.43      0.47      0.40       418\n",
            "weighted avg       0.44      0.41      0.38       418\n",
            "\n",
            "-----------------------------------------------\n",
            "Fold 7 :\n",
            "              precision    recall  f1-score   support\n",
            "\n",
            "           0       0.44      0.74      0.55       113\n",
            "           1       0.87      0.85      0.86       171\n",
            "           2       0.35      0.16      0.22       134\n",
            "\n",
            "    accuracy                           0.60       418\n",
            "   macro avg       0.56      0.59      0.55       418\n",
            "weighted avg       0.59      0.60      0.57       418\n",
            "\n",
            "-----------------------------------------------\n",
            "Fold 8 :\n",
            "              precision    recall  f1-score   support\n",
            "\n",
            "           0       0.50      0.68      0.58       160\n",
            "           1       0.49      0.78      0.60        91\n",
            "           2       0.51      0.16      0.25       166\n",
            "\n",
            "    accuracy                           0.50       417\n",
            "   macro avg       0.50      0.54      0.47       417\n",
            "weighted avg       0.50      0.50      0.45       417\n",
            "\n",
            "-----------------------------------------------\n",
            "Fold 9 :\n",
            "              precision    recall  f1-score   support\n",
            "\n",
            "           0       0.44      0.74      0.55       111\n",
            "           1       0.76      0.80      0.78       169\n",
            "           2       0.46      0.18      0.26       137\n",
            "\n",
            "    accuracy                           0.58       417\n",
            "   macro avg       0.56      0.58      0.53       417\n",
            "weighted avg       0.58      0.58      0.55       417\n",
            "\n",
            "-----------------------------------------------\n",
            "Fold 10 :\n",
            "              precision    recall  f1-score   support\n",
            "\n",
            "           0       0.46      0.70      0.55       126\n",
            "           1       0.64      0.74      0.69       134\n",
            "           2       0.36      0.16      0.22       157\n",
            "\n",
            "    accuracy                           0.51       417\n",
            "   macro avg       0.49      0.53      0.49       417\n",
            "weighted avg       0.48      0.51      0.47       417\n",
            "\n",
            "-----------------------------------------------\n"
          ]
        }
      ]
    },
    {
      "cell_type": "code",
      "source": [
        "Acc=[]\n",
        "Precision=[]\n",
        "Recall=[]\n",
        "F1Score=[]\n",
        "for r in report:\n",
        "  Acc.append(r['accuracy'])\n",
        "  Precision.append(r['weighted avg']['precision'])\n",
        "  Recall.append(r['weighted avg']['recall'])\n",
        "  F1Score.append(r['weighted avg']['f1-score'])\n",
        "print('Average Accuracy cross-validation score:',np.mean(Acc))\n",
        "print('Average Precision cross-validation score:',np.mean(Precision))\n",
        "print('Average Recall cross-validation score:',np.mean(Recall))\n",
        "print('Average f1_score cross-validation score:',np.mean(F1Score))\n"
      ],
      "metadata": {
        "colab": {
          "base_uri": "https://localhost:8080/"
        },
        "id": "EQL9HC9E4KBS",
        "outputId": "4025a644-8718-4223-ae51-92ba19c7d6dd"
      },
      "execution_count": 457,
      "outputs": [
        {
          "output_type": "stream",
          "name": "stdout",
          "text": [
            "Average Accuracy cross-validation score: 0.5183223755923491\n",
            "Average Precision cross-validation score: 0.5250662853998318\n",
            "Average Recall cross-validation score: 0.5183223755923491\n",
            "Average f1_score cross-validation score: 0.48236509050621673\n"
          ]
        }
      ]
    },
    {
      "cell_type": "markdown",
      "source": [
        "## Model_Eval"
      ],
      "metadata": {
        "id": "znMPO-k9WEXJ"
      }
    },
    {
      "cell_type": "code",
      "source": [
        "gnb = GaussianNB()\n",
        "gnb.fit(X_train, y_train)\n",
        "y_pred = gnb.predict(X_test)"
      ],
      "metadata": {
        "id": "-LZ_Umi6WHU4"
      },
      "execution_count": 458,
      "outputs": []
    },
    {
      "cell_type": "code",
      "source": [
        "classes = ['0','1','2']\n",
        "print(f'Test score {accuracy_score(y_pred,y_test)}')\n",
        "plot_confusionmatrix(y_pred,y_test,dom='Test')"
      ],
      "metadata": {
        "colab": {
          "base_uri": "https://localhost:8080/",
          "height": 523
        },
        "id": "znvBxoPtXh1O",
        "outputId": "54066f49-19ae-4b0d-fb81-5b9ca079fcfe"
      },
      "execution_count": 459,
      "outputs": [
        {
          "output_type": "stream",
          "name": "stdout",
          "text": [
            "Test score 0.5119617224880383\n",
            "Test Confusion matrix\n"
          ]
        },
        {
          "output_type": "display_data",
          "data": {
            "text/plain": [
              "<Figure size 640x480 with 2 Axes>"
            ],
            "image/png": "[encoded data removed]"
          },
          "metadata": {}
        }
      ]
    },
    {
      "cell_type": "code",
      "source": [
        "print(classification_report(y_test, y_pred))"
      ],
      "metadata": {
        "colab": {
          "base_uri": "https://localhost:8080/"
        },
        "id": "uEvMKaRHXmps",
        "outputId": "5b0d5412-3401-4f01-bae4-8e76ab3c27a9"
      },
      "execution_count": 460,
      "outputs": [
        {
          "output_type": "stream",
          "name": "stdout",
          "text": [
            "              precision    recall  f1-score   support\n",
            "\n",
            "           0       0.44      0.64      0.52       131\n",
            "           1       0.60      0.83      0.70       126\n",
            "           2       0.47      0.16      0.24       161\n",
            "\n",
            "    accuracy                           0.51       418\n",
            "   macro avg       0.51      0.54      0.49       418\n",
            "weighted avg       0.50      0.51      0.47       418\n",
            "\n"
          ]
        }
      ]
    },
    {
      "cell_type": "markdown",
      "source": [
        "### Cost_Sensitive"
      ],
      "metadata": {
        "id": "-TEaL-SG4QUp"
      }
    },
    {
      "cell_type": "code",
      "source": [
        "class NaiveBayesCostSensitive:\n",
        "    def __init__(self, alpha=1., cost_ratio=5.):\n",
        "        self.alpha = alpha\n",
        "        self.cost_ratio = cost_ratio\n",
        "\n",
        "    def fit(self, X, y):\n",
        "        self.classes, self.class_counts = np.unique(y, return_counts=True)\n",
        "        self.n_classes = len(self.classes)\n",
        "        self.n_features = X.shape[1]\n",
        "        self.feature_counts = np.zeros((self.n_classes, self.n_features))\n",
        "\n",
        "        for i, c in enumerate(self.classes):\n",
        "            X_c = X[y==c]\n",
        "            self.feature_counts[i, :] = np.sum(X_c, axis=0)\n",
        "\n",
        "        self.prior = self.class_counts / np.sum(self.class_counts)\n",
        "        self.feature_probs = (self.feature_counts + self.alpha) / \\\n",
        "            (np.sum(self.feature_counts, axis=1, keepdims=True) + self.alpha * self.n_features)\n",
        "\n",
        "    def predict(self, X):\n",
        "        n_samples = X.shape[0]\n",
        "        log_probs = np.zeros((n_samples, self.n_classes))\n",
        "\n",
        "        for i in range(self.n_classes):\n",
        "            class_prob = self.prior[i]\n",
        "            for j in range(self.n_features):\n",
        "                feature_prob = self.feature_probs[i, j]\n",
        "                log_likelihood = np.log(feature_prob) * X[:, j] + \\\n",
        "                                 np.log(1 - feature_prob) * (1 - X[:, j])\n",
        "                log_prob_feature = np.sum(log_likelihood)\n",
        "                log_probs[:, i] += log_prob_feature\n",
        "\n",
        "            log_probs[:, i] += np.log(class_prob) * self.cost_ratio\n",
        "            log_probs[:, i] -= np.log(1 - class_prob)\n",
        "\n",
        "        y_pred = self.classes[np.argmin(log_probs, axis=1)]\n",
        "\n",
        "        return y_pred\n"
      ],
      "metadata": {
        "id": "IN7mZUhLVr57"
      },
      "execution_count": 461,
      "outputs": []
    },
    {
      "cell_type": "code",
      "source": [
        "clf = NaiveBayesCostSensitive(alpha=1., cost_ratio=5.)\n",
        "clf.fit(X_train, y_train)\n",
        "y_pred = clf.predict(X_test)\n",
        "print(classification_report(y_test, y_pred,zero_division=0))"
      ],
      "metadata": {
        "colab": {
          "base_uri": "https://localhost:8080/"
        },
        "id": "ZKpCrSfHV7QK",
        "outputId": "67c9a9d6-13d8-4bcd-92b1-c89e974f07c5"
      },
      "execution_count": 462,
      "outputs": [
        {
          "output_type": "stream",
          "name": "stdout",
          "text": [
            "              precision    recall  f1-score   support\n",
            "\n",
            "           0       0.00      0.00      0.00       131\n",
            "           1       0.00      0.00      0.00       126\n",
            "           2       0.39      1.00      0.56       161\n",
            "\n",
            "    accuracy                           0.39       418\n",
            "   macro avg       0.13      0.33      0.19       418\n",
            "weighted avg       0.15      0.39      0.21       418\n",
            "\n"
          ]
        }
      ]
    },
    {
      "cell_type": "markdown",
      "source": [
        "# 2."
      ],
      "metadata": {
        "id": "NNzWROTHFN1N"
      }
    },
    {
      "cell_type": "markdown",
      "source": [
        "## PreProcess"
      ],
      "metadata": {
        "id": "MhScgxJ4FzGo"
      }
    },
    {
      "cell_type": "code",
      "source": [
        "y = df['Rings']\n",
        "X = df.drop(['Rings'],axis=1)\n",
        "X.head()"
      ],
      "metadata": {
        "colab": {
          "base_uri": "https://localhost:8080/",
          "height": 268
        },
        "id": "Hve_EW02FSWQ",
        "outputId": "bd99adab-d64d-469c-c552-2062270d91ca"
      },
      "execution_count": 463,
      "outputs": [
        {
          "output_type": "execute_result",
          "data": {
            "text/plain": [
              "   Sex  Length  Diameter  Height  Whole weight  Shucked weight  \\\n",
              "0    2   0.455     0.365   0.095        0.5140          0.2245   \n",
              "1    2   0.350     0.265   0.090        0.2255          0.0995   \n",
              "2    0   0.530     0.420   0.135        0.6770          0.2565   \n",
              "3    2   0.440     0.365   0.125        0.5160          0.2155   \n",
              "4    1   0.330     0.255   0.080        0.2050          0.0895   \n",
              "\n",
              "   Viscera weight  Shell_weight  \n",
              "0          0.1010         0.150  \n",
              "1          0.0485         0.070  \n",
              "2          0.1415         0.210  \n",
              "3          0.1140         0.155  \n",
              "4          0.0395         0.055  "
            ],
            "text/html": [
              "\n",
              "  <div id=\"df-e6f7a88d-d5f2-47a6-8226-0204c04b7284\">\n",
              "    <div class=\"colab-df-container\">\n",
              "      <div>\n",
              "<style scoped>\n",
              "    .dataframe tbody tr th:only-of-type {\n",
              "        vertical-align: middle;\n",
              "    }\n",
              "\n",
              "    .dataframe tbody tr th {\n",
              "        vertical-align: top;\n",
              "    }\n",
              "\n",
              "    .dataframe thead th {\n",
              "        text-align: right;\n",
              "    }\n",
              "</style>\n",
              "<table border=\"1\" class=\"dataframe\">\n",
              "  <thead>\n",
              "    <tr style=\"text-align: right;\">\n",
              "      <th></th>\n",
              "      <th>Sex</th>\n",
              "      <th>Length</th>\n",
              "      <th>Diameter</th>\n",
              "      <th>Height</th>\n",
              "      <th>Whole weight</th>\n",
              "      <th>Shucked weight</th>\n",
              "      <th>Viscera weight</th>\n",
              "      <th>Shell_weight</th>\n",
              "    </tr>\n",
              "  </thead>\n",
              "  <tbody>\n",
              "    <tr>\n",
              "      <th>0</th>\n",
              "      <td>2</td>\n",
              "      <td>0.455</td>\n",
              "      <td>0.365</td>\n",
              "      <td>0.095</td>\n",
              "      <td>0.5140</td>\n",
              "      <td>0.2245</td>\n",
              "      <td>0.1010</td>\n",
              "      <td>0.150</td>\n",
              "    </tr>\n",
              "    <tr>\n",
              "      <th>1</th>\n",
              "      <td>2</td>\n",
              "      <td>0.350</td>\n",
              "      <td>0.265</td>\n",
              "      <td>0.090</td>\n",
              "      <td>0.2255</td>\n",
              "      <td>0.0995</td>\n",
              "      <td>0.0485</td>\n",
              "      <td>0.070</td>\n",
              "    </tr>\n",
              "    <tr>\n",
              "      <th>2</th>\n",
              "      <td>0</td>\n",
              "      <td>0.530</td>\n",
              "      <td>0.420</td>\n",
              "      <td>0.135</td>\n",
              "      <td>0.6770</td>\n",
              "      <td>0.2565</td>\n",
              "      <td>0.1415</td>\n",
              "      <td>0.210</td>\n",
              "    </tr>\n",
              "    <tr>\n",
              "      <th>3</th>\n",
              "      <td>2</td>\n",
              "      <td>0.440</td>\n",
              "      <td>0.365</td>\n",
              "      <td>0.125</td>\n",
              "      <td>0.5160</td>\n",
              "      <td>0.2155</td>\n",
              "      <td>0.1140</td>\n",
              "      <td>0.155</td>\n",
              "    </tr>\n",
              "    <tr>\n",
              "      <th>4</th>\n",
              "      <td>1</td>\n",
              "      <td>0.330</td>\n",
              "      <td>0.255</td>\n",
              "      <td>0.080</td>\n",
              "      <td>0.2050</td>\n",
              "      <td>0.0895</td>\n",
              "      <td>0.0395</td>\n",
              "      <td>0.055</td>\n",
              "    </tr>\n",
              "  </tbody>\n",
              "</table>\n",
              "</div>\n",
              "      <button class=\"colab-df-convert\" onclick=\"convertToInteractive('df-e6f7a88d-d5f2-47a6-8226-0204c04b7284')\"\n",
              "              title=\"Convert this dataframe to an interactive table.\"\n",
              "              style=\"display:none;\">\n",
              "        \n",
              "  <svg xmlns=\"http://www.w3.org/2000/svg\" height=\"24px\"viewBox=\"0 0 24 24\"\n",
              "       width=\"24px\">\n",
              "    <path d=\"M0 0h24v24H0V0z\" fill=\"none\"/>\n",
              "    <path d=\"M18.56 5.44l.94 2.06.94-2.06 2.06-.94-2.06-.94-.94-2.06-.94 2.06-2.06.94zm-11 1L8.5 8.5l.94-2.06 2.06-.94-2.06-.94L8.5 2.5l-.94 2.06-2.06.94zm10 10l.94 2.06.94-2.06 2.06-.94-2.06-.94-.94-2.06-.94 2.06-2.06.94z\"/><path d=\"M17.41 7.96l-1.37-1.37c-.4-.4-.92-.59-1.43-.59-.52 0-1.04.2-1.43.59L10.3 9.45l-7.72 7.72c-.78.78-.78 2.05 0 2.83L4 21.41c.39.39.9.59 1.41.59.51 0 1.02-.2 1.41-.59l7.78-7.78 2.81-2.81c.8-.78.8-2.07 0-2.86zM5.41 20L4 18.59l7.72-7.72 1.47 1.35L5.41 20z\"/>\n",
              "  </svg>\n",
              "      </button>\n",
              "      \n",
              "  <style>\n",
              "    .colab-df-container {\n",
              "      display:flex;\n",
              "      flex-wrap:wrap;\n",
              "      gap: 12px;\n",
              "    }\n",
              "\n",
              "    .colab-df-convert {\n",
              "      background-color: #E8F0FE;\n",
              "      border: none;\n",
              "      border-radius: 50%;\n",
              "      cursor: pointer;\n",
              "      display: none;\n",
              "      fill: #1967D2;\n",
              "      height: 32px;\n",
              "      padding: 0 0 0 0;\n",
              "      width: 32px;\n",
              "    }\n",
              "\n",
              "    .colab-df-convert:hover {\n",
              "      background-color: #E2EBFA;\n",
              "      box-shadow: 0px 1px 2px rgba(60, 64, 67, 0.3), 0px 1px 3px 1px rgba(60, 64, 67, 0.15);\n",
              "      fill: #174EA6;\n",
              "    }\n",
              "\n",
              "    [theme=dark] .colab-df-convert {\n",
              "      background-color: #3B4455;\n",
              "      fill: #D2E3FC;\n",
              "    }\n",
              "\n",
              "    [theme=dark] .colab-df-convert:hover {\n",
              "      background-color: #434B5C;\n",
              "      box-shadow: 0px 1px 3px 1px rgba(0, 0, 0, 0.15);\n",
              "      filter: drop-shadow(0px 1px 2px rgba(0, 0, 0, 0.3));\n",
              "      fill: #FFFFFF;\n",
              "    }\n",
              "  </style>\n",
              "\n",
              "      <script>\n",
              "        const buttonEl =\n",
              "          document.querySelector('#df-e6f7a88d-d5f2-47a6-8226-0204c04b7284 button.colab-df-convert');\n",
              "        buttonEl.style.display =\n",
              "          google.colab.kernel.accessAllowed ? 'block' : 'none';\n",
              "\n",
              "        async function convertToInteractive(key) {\n",
              "          const element = document.querySelector('#df-e6f7a88d-d5f2-47a6-8226-0204c04b7284');\n",
              "          const dataTable =\n",
              "            await google.colab.kernel.invokeFunction('convertToInteractive',\n",
              "                                                     [key], {});\n",
              "          if (!dataTable) return;\n",
              "\n",
              "          const docLinkHtml = 'Like what you see? Visit the ' +\n",
              "            '<a target=\"_blank\" href=https://colab.research.google.com/notebooks/data_table.ipynb>data table notebook</a>'\n",
              "            + ' to learn more about interactive tables.';\n",
              "          element.innerHTML = '';\n",
              "          dataTable['output_type'] = 'display_data';\n",
              "          await google.colab.output.renderOutput(dataTable, element);\n",
              "          const docLink = document.createElement('div');\n",
              "          docLink.innerHTML = docLinkHtml;\n",
              "          element.appendChild(docLink);\n",
              "        }\n",
              "      </script>\n",
              "    </div>\n",
              "  </div>\n",
              "  "
            ]
          },
          "metadata": {},
          "execution_count": 463
        }
      ]
    },
    {
      "cell_type": "code",
      "source": [
        "classes = np.unique(df[\"Rings\"])"
      ],
      "metadata": {
        "id": "ybnQbUBqlxn-"
      },
      "execution_count": 464,
      "outputs": []
    },
    {
      "cell_type": "code",
      "source": [
        "X_train, X_test, y_train, y_test = train_test_split(X, y, test_size=0.1, random_state=1)\n",
        "X_train, X_val, y_train, y_val = train_test_split(X_train, y_train, test_size=0.2, random_state=1)"
      ],
      "metadata": {
        "id": "_hZcc746GMDN"
      },
      "execution_count": 465,
      "outputs": []
    },
    {
      "cell_type": "code",
      "source": [
        "scaler = StandardScaler()\n",
        "scaler.fit(X_train)\n",
        "\n",
        "X_train = scaler.transform(X_train)\n",
        "X_test = scaler.transform(X_test)"
      ],
      "metadata": {
        "id": "VwFxAHcaGdXn"
      },
      "execution_count": 466,
      "outputs": []
    },
    {
      "cell_type": "markdown",
      "source": [
        "## KNN"
      ],
      "metadata": {
        "id": "ba4KshhMGVgB"
      }
    },
    {
      "cell_type": "markdown",
      "source": [
        "## Finding The Best K For KNN Classification 2"
      ],
      "metadata": {
        "id": "g3cCmV6nH6gE"
      }
    },
    {
      "cell_type": "code",
      "source": [
        "f1s=[]\n",
        "for i in range(1, 50):\n",
        "    knn = KNeighborsClassifier(n_neighbors=i)\n",
        "    knn.fit(X_train, y_train)\n",
        "    pred_i = knn.predict(X_test)\n",
        "    # using average='weighted' to calculate a weighted average for the 4 classes\n",
        "    f1s.append(f1_score(y_test, pred_i, average='weighted'))"
      ],
      "metadata": {
        "id": "iW6x0mfZHMph"
      },
      "execution_count": 467,
      "outputs": []
    },
    {
      "cell_type": "code",
      "source": [
        "plt.figure(figsize=(12, 6))\n",
        "plt.plot(range(1, 50), f1s, color='red', linestyle='dashed', marker='o',\n",
        "         markerfacecolor='blue', markersize=10)\n",
        "plt.title('F1 Score K Value')\n",
        "plt.xlabel('K Value')\n",
        "plt.ylabel('F1 Score')"
      ],
      "metadata": {
        "colab": {
          "base_uri": "https://localhost:8080/",
          "height": 376
        },
        "id": "a9Vkk-uiICEi",
        "outputId": "4f6c5a3f-06c6-4290-d757-6d8e3fa958b2"
      },
      "execution_count": 468,
      "outputs": [
        {
          "output_type": "execute_result",
          "data": {
            "text/plain": [
              "Text(0, 0.5, 'F1 Score')"
            ]
          },
          "metadata": {},
          "execution_count": 468
        },
        {
          "output_type": "display_data",
          "data": {
            "text/plain": [
              "<Figure size 1200x600 with 1 Axes>"
            ],
            "image/png": "[encoded data removed]"
          },
          "metadata": {}
        }
      ]
    },
    {
      "cell_type": "code",
      "source": [
        "k = [i for i in range (0,50)]\n",
        "maxF1 = np.argmax(f1s)\n",
        "BestK = k[maxF1]\n",
        "print(BestK)"
      ],
      "metadata": {
        "colab": {
          "base_uri": "https://localhost:8080/"
        },
        "id": "k9rOe07ncsci",
        "outputId": "6267752b-1860-4a8f-e50b-207f1a91e331"
      },
      "execution_count": 469,
      "outputs": [
        {
          "output_type": "stream",
          "name": "stdout",
          "text": [
            "23\n"
          ]
        }
      ]
    },
    {
      "cell_type": "code",
      "source": [
        "classifier23 = KNeighborsClassifier(n_neighbors=23)\n",
        "classifier23.fit(X_train, y_train)\n",
        "y_pred23 = classifier23.predict(X_test)\n",
        "print(classification_report(y_test, y_pred23,zero_division=0))"
      ],
      "metadata": {
        "colab": {
          "base_uri": "https://localhost:8080/"
        },
        "id": "hljtwUrzLWue",
        "outputId": "e311e1ae-61c2-45e6-c58e-0b0a467b7fce"
      },
      "execution_count": 470,
      "outputs": [
        {
          "output_type": "stream",
          "name": "stdout",
          "text": [
            "              precision    recall  f1-score   support\n",
            "\n",
            "           3       0.00      0.00      0.00         2\n",
            "           4       0.25      0.50      0.33         4\n",
            "           5       0.17      0.12      0.14         8\n",
            "           6       0.28      0.33      0.30        24\n",
            "           7       0.28      0.28      0.28        39\n",
            "           8       0.17      0.29      0.22        49\n",
            "           9       0.25      0.24      0.24        74\n",
            "          10       0.27      0.41      0.33        71\n",
            "          11       0.22      0.26      0.24        43\n",
            "          12       0.50      0.15      0.23        33\n",
            "          13       0.00      0.00      0.00        16\n",
            "          14       0.00      0.00      0.00        15\n",
            "          15       0.00      0.00      0.00        12\n",
            "          16       0.33      0.12      0.18         8\n",
            "          17       0.00      0.00      0.00         5\n",
            "          18       0.00      0.00      0.00         7\n",
            "          19       0.00      0.00      0.00         3\n",
            "          20       0.00      0.00      0.00         2\n",
            "          21       0.00      0.00      0.00         3\n",
            "\n",
            "    accuracy                           0.24       418\n",
            "   macro avg       0.14      0.14      0.13       418\n",
            "weighted avg       0.23      0.24      0.22       418\n",
            "\n"
          ]
        }
      ]
    },
    {
      "cell_type": "markdown",
      "source": [
        "## K-Fold"
      ],
      "metadata": {
        "id": "-0x0H0VcTH7C"
      }
    },
    {
      "cell_type": "code",
      "source": [
        "XF = X.to_numpy()\n",
        "yF = y.to_numpy()"
      ],
      "metadata": {
        "id": "K7AdkQtlMJ0r"
      },
      "execution_count": 471,
      "outputs": []
    },
    {
      "cell_type": "code",
      "source": [
        "kf = KFold(n_splits = 10)\n",
        "cnt =1\n",
        "report = []\n",
        "for train, test in kf.split(XF,yF):\n",
        "   X_trainF, X_testF, y_trainF, y_testF = XF[train], XF[test], yF[train], yF[test]\n",
        "   knn = KNeighborsClassifier(n_neighbors=BestK)\n",
        "   knn.fit(X_trainF, y_trainF)\n",
        "   y_predF = knn.predict(X_testF)\n",
        "   print('Fold',cnt,':')\n",
        "   print(classification_report(y_testF, y_predF,zero_division=0))\n",
        "   print('-----------------------------------------------')\n",
        "   report.append(classification_report(y_testF, y_predF, output_dict=True,zero_division=0))\n",
        "   cnt = cnt+1"
      ],
      "metadata": {
        "colab": {
          "base_uri": "https://localhost:8080/"
        },
        "id": "MuTOE9Y1TX0D",
        "outputId": "ccfcfe4f-d6e2-4675-8a28-74d810eaa8c4"
      },
      "execution_count": 472,
      "outputs": [
        {
          "output_type": "stream",
          "name": "stdout",
          "text": [
            "Fold 1 :\n",
            "              precision    recall  f1-score   support\n",
            "\n",
            "           1       0.00      0.00      0.00         1\n",
            "           3       0.00      0.00      0.00         3\n",
            "           4       0.42      0.62      0.50         8\n",
            "           5       0.50      0.46      0.48        13\n",
            "           6       0.24      0.67      0.36        12\n",
            "           7       0.25      0.17      0.20        35\n",
            "           8       0.20      0.25      0.23        36\n",
            "           9       0.14      0.31      0.19        49\n",
            "          10       0.14      0.27      0.18        55\n",
            "          11       0.03      0.03      0.03        32\n",
            "          12       0.10      0.05      0.07        38\n",
            "          13       0.21      0.11      0.14        28\n",
            "          14       0.00      0.00      0.00        28\n",
            "          15       0.00      0.00      0.00        23\n",
            "          16       0.00      0.00      0.00        16\n",
            "          17       0.00      0.00      0.00         6\n",
            "          18       0.00      0.00      0.00         7\n",
            "          19       0.00      0.00      0.00         8\n",
            "          20       0.00      0.00      0.00        10\n",
            "          21       0.00      0.00      0.00         3\n",
            "          22       0.00      0.00      0.00         4\n",
            "          23       0.00      0.00      0.00         2\n",
            "          26       0.00      0.00      0.00         1\n",
            "\n",
            "    accuracy                           0.17       418\n",
            "   macro avg       0.10      0.13      0.10       418\n",
            "weighted avg       0.13      0.17      0.14       418\n",
            "\n",
            "-----------------------------------------------\n",
            "Fold 2 :\n",
            "              precision    recall  f1-score   support\n",
            "\n",
            "           2       0.00      0.00      0.00         1\n",
            "           3       0.00      0.00      0.00         3\n",
            "           4       0.27      0.43      0.33         7\n",
            "           5       0.18      0.25      0.21        12\n",
            "           6       0.19      0.35      0.25        23\n",
            "           7       0.16      0.23      0.19        31\n",
            "           8       0.05      0.21      0.09        14\n",
            "           9       0.08      0.23      0.12        35\n",
            "          10       0.08      0.15      0.10        47\n",
            "          11       0.04      0.02      0.03        47\n",
            "          12       0.17      0.08      0.11        36\n",
            "          13       0.07      0.02      0.03        43\n",
            "          14       0.25      0.05      0.08        20\n",
            "          15       0.00      0.00      0.00        28\n",
            "          16       0.00      0.00      0.00        13\n",
            "          17       0.00      0.00      0.00        20\n",
            "          18       0.00      0.00      0.00        11\n",
            "          19       0.00      0.00      0.00         9\n",
            "          20       0.00      0.00      0.00         6\n",
            "          21       0.00      0.00      0.00         6\n",
            "          22       0.00      0.00      0.00         2\n",
            "          23       0.00      0.00      0.00         3\n",
            "          29       0.00      0.00      0.00         1\n",
            "\n",
            "    accuracy                           0.11       418\n",
            "   macro avg       0.07      0.09      0.07       418\n",
            "weighted avg       0.09      0.11      0.08       418\n",
            "\n",
            "-----------------------------------------------\n",
            "Fold 3 :\n",
            "              precision    recall  f1-score   support\n",
            "\n",
            "           3       0.00      0.00      0.00         2\n",
            "           4       0.60      0.30      0.40        10\n",
            "           5       0.35      0.27      0.31        22\n",
            "           6       0.42      0.26      0.32        57\n",
            "           7       0.37      0.41      0.39        64\n",
            "           8       0.36      0.27      0.31        81\n",
            "           9       0.31      0.43      0.36        76\n",
            "          10       0.30      0.40      0.34        50\n",
            "          11       0.24      0.32      0.28        37\n",
            "          12       0.29      0.14      0.19        14\n",
            "          14       0.00      0.00      0.00         2\n",
            "          15       0.00      0.00      0.00         1\n",
            "          17       0.00      0.00      0.00         2\n",
            "\n",
            "    accuracy                           0.33       418\n",
            "   macro avg       0.25      0.22      0.22       418\n",
            "weighted avg       0.34      0.33      0.33       418\n",
            "\n",
            "-----------------------------------------------\n",
            "Fold 4 :\n",
            "              precision    recall  f1-score   support\n",
            "\n",
            "           3       0.00      0.00      0.00         1\n",
            "           4       0.00      0.00      0.00         1\n",
            "           5       0.25      0.11      0.15         9\n",
            "           6       0.20      0.22      0.21        18\n",
            "           7       0.32      0.38      0.35        42\n",
            "           8       0.34      0.38      0.36        89\n",
            "           9       0.34      0.36      0.35       101\n",
            "          10       0.40      0.36      0.38        91\n",
            "          11       0.37      0.44      0.40        39\n",
            "          12       0.00      0.00      0.00        18\n",
            "          13       0.00      0.00      0.00         6\n",
            "          14       0.00      0.00      0.00         2\n",
            "          15       0.00      0.00      0.00         1\n",
            "\n",
            "    accuracy                           0.34       418\n",
            "   macro avg       0.17      0.17      0.17       418\n",
            "weighted avg       0.32      0.34      0.33       418\n",
            "\n",
            "-----------------------------------------------\n",
            "Fold 5 :\n",
            "              precision    recall  f1-score   support\n",
            "\n",
            "           4       0.50      0.67      0.57         3\n",
            "           5       0.27      0.43      0.33         7\n",
            "           6       0.44      0.35      0.39        20\n",
            "           7       0.38      0.32      0.34        38\n",
            "           8       0.40      0.41      0.40        56\n",
            "           9       0.32      0.38      0.34        88\n",
            "          10       0.29      0.42      0.34        84\n",
            "          11       0.27      0.24      0.26        70\n",
            "          12       0.38      0.09      0.15        33\n",
            "          13       0.00      0.00      0.00        12\n",
            "          14       0.00      0.00      0.00         4\n",
            "          15       0.00      0.00      0.00         2\n",
            "          16       0.00      0.00      0.00         1\n",
            "\n",
            "    accuracy                           0.32       418\n",
            "   macro avg       0.25      0.25      0.24       418\n",
            "weighted avg       0.32      0.32      0.31       418\n",
            "\n",
            "-----------------------------------------------\n",
            "Fold 6 :\n",
            "              precision    recall  f1-score   support\n",
            "\n",
            "           3       0.00      0.00      0.00         2\n",
            "           4       0.43      1.00      0.60         3\n",
            "           5       0.35      0.54      0.42        13\n",
            "           6       0.36      0.33      0.35        24\n",
            "           7       0.16      0.18      0.17        28\n",
            "           8       0.13      0.23      0.17        30\n",
            "           9       0.10      0.24      0.14        42\n",
            "          10       0.09      0.26      0.13        43\n",
            "          11       0.14      0.14      0.14        35\n",
            "          12       0.17      0.05      0.08        37\n",
            "          13       0.22      0.05      0.08        39\n",
            "          14       0.00      0.00      0.00        34\n",
            "          15       0.00      0.00      0.00        20\n",
            "          16       0.00      0.00      0.00        15\n",
            "          17       0.00      0.00      0.00        19\n",
            "          18       0.00      0.00      0.00        12\n",
            "          19       0.00      0.00      0.00         7\n",
            "          20       0.00      0.00      0.00         5\n",
            "          21       0.00      0.00      0.00         3\n",
            "          23       0.00      0.00      0.00         4\n",
            "          25       0.00      0.00      0.00         1\n",
            "          27       0.00      0.00      0.00         2\n",
            "\n",
            "    accuracy                           0.14       418\n",
            "   macro avg       0.10      0.14      0.10       418\n",
            "weighted avg       0.12      0.14      0.12       418\n",
            "\n",
            "-----------------------------------------------\n",
            "Fold 7 :\n",
            "              precision    recall  f1-score   support\n",
            "\n",
            "           3       0.00      0.00      0.00         1\n",
            "           4       0.67      0.22      0.33         9\n",
            "           5       0.36      0.45      0.40        11\n",
            "           6       0.31      0.28      0.29        29\n",
            "           7       0.46      0.38      0.42        58\n",
            "           8       0.48      0.44      0.46        91\n",
            "           9       0.37      0.44      0.40        93\n",
            "          10       0.33      0.32      0.32        66\n",
            "          11       0.20      0.32      0.24        38\n",
            "          12       0.11      0.09      0.10        11\n",
            "          13       0.00      0.00      0.00         9\n",
            "          14       0.00      0.00      0.00         1\n",
            "          15       0.00      0.00      0.00         1\n",
            "\n",
            "    accuracy                           0.36       418\n",
            "   macro avg       0.25      0.23      0.23       418\n",
            "weighted avg       0.37      0.36      0.36       418\n",
            "\n",
            "-----------------------------------------------\n",
            "Fold 8 :\n",
            "              precision    recall  f1-score   support\n",
            "\n",
            "           4       0.25      0.25      0.25         4\n",
            "           5       0.27      0.30      0.29        10\n",
            "           6       0.08      0.07      0.08        14\n",
            "           7       0.15      0.27      0.19        22\n",
            "           8       0.18      0.23      0.20        40\n",
            "           9       0.22      0.33      0.26        60\n",
            "          10       0.16      0.43      0.23        54\n",
            "          11       0.28      0.15      0.19        75\n",
            "          12       0.07      0.03      0.04        39\n",
            "          13       0.00      0.00      0.00        29\n",
            "          14       0.00      0.00      0.00        20\n",
            "          15       0.00      0.00      0.00        17\n",
            "          16       0.33      0.08      0.13        12\n",
            "          17       0.00      0.00      0.00         7\n",
            "          18       0.00      0.00      0.00         7\n",
            "          19       0.00      0.00      0.00         2\n",
            "          20       0.00      0.00      0.00         2\n",
            "          21       0.00      0.00      0.00         1\n",
            "          24       0.00      0.00      0.00         2\n",
            "\n",
            "    accuracy                           0.18       417\n",
            "   macro avg       0.11      0.11      0.10       417\n",
            "weighted avg       0.16      0.18      0.15       417\n",
            "\n",
            "-----------------------------------------------\n",
            "Fold 9 :\n",
            "              precision    recall  f1-score   support\n",
            "\n",
            "           3       0.00      0.00      0.00         2\n",
            "           4       0.40      0.40      0.40         5\n",
            "           5       0.36      0.33      0.35        12\n",
            "           6       0.46      0.41      0.44        29\n",
            "           7       0.23      0.33      0.27        43\n",
            "           8       0.34      0.34      0.34        71\n",
            "           9       0.32      0.36      0.34        78\n",
            "          10       0.23      0.28      0.25        72\n",
            "          11       0.34      0.38      0.36        53\n",
            "          12       0.29      0.12      0.17        16\n",
            "          13       1.00      0.06      0.11        18\n",
            "          14       0.00      0.00      0.00         4\n",
            "          15       0.00      0.00      0.00         2\n",
            "          16       0.00      0.00      0.00         2\n",
            "          17       0.00      0.00      0.00         2\n",
            "          18       0.00      0.00      0.00         3\n",
            "          19       0.00      0.00      0.00         4\n",
            "          20       0.00      0.00      0.00         1\n",
            "\n",
            "    accuracy                           0.30       417\n",
            "   macro avg       0.22      0.17      0.17       417\n",
            "weighted avg       0.32      0.30      0.29       417\n",
            "\n",
            "-----------------------------------------------\n",
            "Fold 10 :\n",
            "              precision    recall  f1-score   support\n",
            "\n",
            "           3       0.00      0.00      0.00         1\n",
            "           4       0.67      0.57      0.62         7\n",
            "           5       0.20      0.33      0.25         6\n",
            "           6       0.37      0.21      0.27        33\n",
            "           7       0.22      0.30      0.25        30\n",
            "           8       0.43      0.40      0.41        60\n",
            "           9       0.22      0.39      0.28        67\n",
            "          10       0.28      0.39      0.33        72\n",
            "          11       0.36      0.28      0.31        61\n",
            "          12       0.36      0.16      0.22        25\n",
            "          13       0.22      0.11      0.14        19\n",
            "          14       0.00      0.00      0.00        11\n",
            "          15       0.00      0.00      0.00         8\n",
            "          16       0.00      0.00      0.00         8\n",
            "          17       0.00      0.00      0.00         2\n",
            "          18       0.00      0.00      0.00         2\n",
            "          19       0.00      0.00      0.00         2\n",
            "          20       0.00      0.00      0.00         2\n",
            "          21       0.00      0.00      0.00         1\n",
            "\n",
            "    accuracy                           0.29       417\n",
            "   macro avg       0.18      0.17      0.16       417\n",
            "weighted avg       0.29      0.29      0.28       417\n",
            "\n",
            "-----------------------------------------------\n"
          ]
        }
      ]
    },
    {
      "cell_type": "code",
      "source": [
        "Acc=[]\n",
        "Precision=[]\n",
        "Recall=[]\n",
        "F1Score=[]\n",
        "for r in report:\n",
        "  Acc.append(r['accuracy'])\n",
        "  Precision.append(r['weighted avg']['precision'])\n",
        "  Recall.append(r['weighted avg']['recall'])\n",
        "  F1Score.append(r['weighted avg']['f1-score'])\n",
        "print('Average Accuracy cross-validation score:',np.mean(Acc))\n",
        "print('Average Precision cross-validation score:',np.mean(Precision))\n",
        "print('Average Recall cross-validation score:',np.mean(Recall))\n",
        "print('Average f1_score cross-validation score:',np.mean(F1Score))"
      ],
      "metadata": {
        "colab": {
          "base_uri": "https://localhost:8080/"
        },
        "id": "mqeqInLYUER-",
        "outputId": "ef2c5ded-283b-47d0-bff3-dddc11e38858"
      },
      "execution_count": 473,
      "outputs": [
        {
          "output_type": "stream",
          "name": "stdout",
          "text": [
            "Average Accuracy cross-validation score: 0.2556894197560612\n",
            "Average Precision cross-validation score: 0.24523634603844607\n",
            "Average Recall cross-validation score: 0.2556894197560612\n",
            "Average f1_score cross-validation score: 0.23845617036967598\n"
          ]
        }
      ]
    },
    {
      "cell_type": "markdown",
      "source": [
        "## Model_Eval"
      ],
      "metadata": {
        "id": "ff8ljdElVm5o"
      }
    },
    {
      "cell_type": "code",
      "source": [
        "knn = KNeighborsClassifier(n_neighbors=BestK)\n",
        "knn.fit(X_train, y_train)\n",
        "y_pred = knn.predict(X_test)"
      ],
      "metadata": {
        "id": "2UDwihajVmng"
      },
      "execution_count": 474,
      "outputs": []
    },
    {
      "cell_type": "code",
      "source": [
        "print(f'Test score {accuracy_score(y_pred,y_test)}')\n",
        "plot_confusionmatrix(y_pred,y_test,dom='Test')"
      ],
      "metadata": {
        "colab": {
          "base_uri": "https://localhost:8080/",
          "height": 522
        },
        "id": "7zJ2Oy2uUvN-",
        "outputId": "2470d7c0-a107-4833-a28d-6e849c710e49"
      },
      "execution_count": 475,
      "outputs": [
        {
          "output_type": "stream",
          "name": "stdout",
          "text": [
            "Test score 0.23923444976076555\n",
            "Test Confusion matrix\n"
          ]
        },
        {
          "output_type": "display_data",
          "data": {
            "text/plain": [
              "<Figure size 640x480 with 2 Axes>"
            ],
            "image/png": "[encoded data removed]"
          },
          "metadata": {}
        }
      ]
    },
    {
      "cell_type": "markdown",
      "source": [
        "## NB"
      ],
      "metadata": {
        "id": "47jwrccWaKi_"
      }
    },
    {
      "cell_type": "code",
      "source": [
        "kf = KFold(n_splits = 10)\n",
        "cnt =1\n",
        "report = []\n",
        "for train, test in kf.split(XF,yF):\n",
        "   X_trainF, X_testF, y_trainF, y_testF = XF[train], XF[test], yF[train], yF[test]\n",
        "   gnb = GaussianNB()\n",
        "   gnb.fit(X_trainF, y_trainF)\n",
        "   y_predF = gnb.predict(X_testF)\n",
        "   print('Fold',cnt,':')\n",
        "   print(classification_report(y_testF, y_predF,zero_division=0))\n",
        "   print('-----------------------------------------------')\n",
        "   report.append(classification_report(y_testF, y_predF,zero_division=0,output_dict=True))\n",
        "   cnt = cnt+1"
      ],
      "metadata": {
        "colab": {
          "base_uri": "https://localhost:8080/"
        },
        "id": "gqvEzpNkcfpT",
        "outputId": "2111a48a-d498-4c80-ef84-9177720ddfeb"
      },
      "execution_count": 476,
      "outputs": [
        {
          "output_type": "stream",
          "name": "stdout",
          "text": [
            "Fold 1 :\n",
            "              precision    recall  f1-score   support\n",
            "\n",
            "           1       0.00      0.00      0.00         1\n",
            "           3       0.29      0.67      0.40         3\n",
            "           4       0.29      0.50      0.36         8\n",
            "           5       0.14      0.31      0.20        13\n",
            "           6       0.12      0.42      0.19        12\n",
            "           7       0.14      0.23      0.17        35\n",
            "           8       0.13      0.19      0.16        36\n",
            "           9       0.10      0.18      0.13        49\n",
            "          10       0.07      0.04      0.05        55\n",
            "          11       0.06      0.09      0.07        32\n",
            "          12       0.00      0.00      0.00        38\n",
            "          13       0.00      0.00      0.00        28\n",
            "          14       0.00      0.00      0.00        28\n",
            "          15       0.00      0.00      0.00        23\n",
            "          16       0.00      0.00      0.00        16\n",
            "          17       0.00      0.00      0.00         6\n",
            "          18       0.00      0.00      0.00         7\n",
            "          19       0.00      0.00      0.00         8\n",
            "          20       0.04      0.10      0.05        10\n",
            "          21       0.00      0.00      0.00         3\n",
            "          22       0.00      0.00      0.00         4\n",
            "          23       0.00      0.00      0.00         2\n",
            "          24       0.00      0.00      0.00         0\n",
            "          26       0.00      0.00      0.00         1\n",
            "          27       0.00      0.00      0.00         0\n",
            "\n",
            "    accuracy                           0.11       418\n",
            "   macro avg       0.05      0.11      0.07       418\n",
            "weighted avg       0.06      0.11      0.08       418\n",
            "\n",
            "-----------------------------------------------\n",
            "Fold 2 :\n",
            "              precision    recall  f1-score   support\n",
            "\n",
            "           2       0.00      0.00      0.00         1\n",
            "           3       0.21      1.00      0.35         3\n",
            "           4       0.00      0.00      0.00         7\n",
            "           5       0.17      0.42      0.24        12\n",
            "           6       0.17      0.39      0.24        23\n",
            "           7       0.07      0.19      0.10        31\n",
            "           8       0.01      0.07      0.02        14\n",
            "           9       0.03      0.09      0.05        35\n",
            "          10       0.06      0.04      0.05        47\n",
            "          11       0.09      0.04      0.06        47\n",
            "          12       0.00      0.00      0.00        36\n",
            "          13       0.00      0.00      0.00        43\n",
            "          14       0.00      0.00      0.00        20\n",
            "          15       0.00      0.00      0.00        28\n",
            "          16       0.00      0.00      0.00        13\n",
            "          17       0.33      0.05      0.09        20\n",
            "          18       0.00      0.00      0.00        11\n",
            "          19       0.00      0.00      0.00         9\n",
            "          20       0.00      0.00      0.00         6\n",
            "          21       0.00      0.00      0.00         6\n",
            "          22       0.00      0.00      0.00         2\n",
            "          23       0.00      0.00      0.00         3\n",
            "          29       0.00      0.00      0.00         1\n",
            "\n",
            "    accuracy                           0.08       418\n",
            "   macro avg       0.05      0.10      0.05       418\n",
            "weighted avg       0.06      0.08      0.05       418\n",
            "\n",
            "-----------------------------------------------\n",
            "Fold 3 :\n",
            "              precision    recall  f1-score   support\n",
            "\n",
            "           3       0.25      0.50      0.33         2\n",
            "           4       0.31      0.40      0.35        10\n",
            "           5       0.40      0.45      0.43        22\n",
            "           6       0.40      0.39      0.39        57\n",
            "           7       0.52      0.38      0.44        64\n",
            "           8       0.42      0.27      0.33        81\n",
            "           9       0.39      0.30      0.34        76\n",
            "          10       0.20      0.20      0.20        50\n",
            "          11       0.26      0.73      0.38        37\n",
            "          12       0.00      0.00      0.00        14\n",
            "          14       0.00      0.00      0.00         2\n",
            "          15       0.00      0.00      0.00         1\n",
            "          17       0.00      0.00      0.00         2\n",
            "          24       0.00      0.00      0.00         0\n",
            "          27       0.00      0.00      0.00         0\n",
            "\n",
            "    accuracy                           0.34       418\n",
            "   macro avg       0.21      0.24      0.21       418\n",
            "weighted avg       0.36      0.34      0.34       418\n",
            "\n",
            "-----------------------------------------------\n",
            "Fold 4 :\n",
            "              precision    recall  f1-score   support\n",
            "\n",
            "           3       1.00      1.00      1.00         1\n",
            "           4       0.50      1.00      0.67         1\n",
            "           5       0.44      0.44      0.44         9\n",
            "           6       0.14      0.28      0.19        18\n",
            "           7       0.21      0.26      0.23        42\n",
            "           8       0.37      0.27      0.31        89\n",
            "           9       0.35      0.40      0.37       101\n",
            "          10       0.43      0.20      0.27        91\n",
            "          11       0.27      0.64      0.38        39\n",
            "          12       0.00      0.00      0.00        18\n",
            "          13       0.00      0.00      0.00         6\n",
            "          14       0.00      0.00      0.00         2\n",
            "          15       0.00      0.00      0.00         1\n",
            "          17       0.00      0.00      0.00         0\n",
            "\n",
            "    accuracy                           0.31       418\n",
            "   macro avg       0.27      0.32      0.28       418\n",
            "weighted avg       0.32      0.31      0.30       418\n",
            "\n",
            "-----------------------------------------------\n",
            "Fold 5 :\n",
            "              precision    recall  f1-score   support\n",
            "\n",
            "           3       0.00      0.00      0.00         0\n",
            "           4       0.20      0.33      0.25         3\n",
            "           5       0.20      0.57      0.30         7\n",
            "           6       0.39      0.35      0.37        20\n",
            "           7       0.38      0.39      0.39        38\n",
            "           8       0.35      0.36      0.35        56\n",
            "           9       0.44      0.32      0.37        88\n",
            "          10       0.34      0.20      0.25        84\n",
            "          11       0.29      0.63      0.39        70\n",
            "          12       0.00      0.00      0.00        33\n",
            "          13       0.00      0.00      0.00        12\n",
            "          14       0.00      0.00      0.00         4\n",
            "          15       0.00      0.00      0.00         2\n",
            "          16       0.00      0.00      0.00         1\n",
            "          17       0.00      0.00      0.00         0\n",
            "          20       0.00      0.00      0.00         0\n",
            "          24       0.00      0.00      0.00         0\n",
            "          27       0.00      0.00      0.00         0\n",
            "\n",
            "    accuracy                           0.33       418\n",
            "   macro avg       0.14      0.18      0.15       418\n",
            "weighted avg       0.31      0.33      0.30       418\n",
            "\n",
            "-----------------------------------------------\n",
            "Fold 6 :\n",
            "              precision    recall  f1-score   support\n",
            "\n",
            "           3       0.20      1.00      0.33         2\n",
            "           4       0.00      0.00      0.00         3\n",
            "           5       0.19      0.38      0.25        13\n",
            "           6       0.12      0.21      0.15        24\n",
            "           7       0.14      0.36      0.21        28\n",
            "           8       0.11      0.27      0.15        30\n",
            "           9       0.06      0.12      0.08        42\n",
            "          10       0.06      0.07      0.07        43\n",
            "          11       0.09      0.11      0.10        35\n",
            "          12       0.00      0.00      0.00        37\n",
            "          13       0.00      0.00      0.00        39\n",
            "          14       0.00      0.00      0.00        34\n",
            "          15       0.00      0.00      0.00        20\n",
            "          16       0.17      0.07      0.10        15\n",
            "          17       0.00      0.00      0.00        19\n",
            "          18       0.00      0.00      0.00        12\n",
            "          19       0.00      0.00      0.00         7\n",
            "          20       0.00      0.00      0.00         5\n",
            "          21       0.00      0.00      0.00         3\n",
            "          23       0.00      0.00      0.00         4\n",
            "          25       0.00      0.00      0.00         1\n",
            "          27       0.00      0.00      0.00         2\n",
            "\n",
            "    accuracy                           0.10       418\n",
            "   macro avg       0.05      0.12      0.07       418\n",
            "weighted avg       0.06      0.10      0.07       418\n",
            "\n",
            "-----------------------------------------------\n",
            "Fold 7 :\n",
            "              precision    recall  f1-score   support\n",
            "\n",
            "           3       0.50      1.00      0.67         1\n",
            "           4       0.78      0.78      0.78         9\n",
            "           5       0.27      0.55      0.36        11\n",
            "           6       0.31      0.31      0.31        29\n",
            "           7       0.42      0.43      0.43        58\n",
            "           8       0.51      0.25      0.34        91\n",
            "           9       0.34      0.34      0.34        93\n",
            "          10       0.33      0.29      0.31        66\n",
            "          11       0.25      0.63      0.36        38\n",
            "          12       0.00      0.00      0.00        11\n",
            "          13       0.00      0.00      0.00         9\n",
            "          14       0.00      0.00      0.00         1\n",
            "          15       0.00      0.00      0.00         1\n",
            "          24       0.00      0.00      0.00         0\n",
            "          27       0.00      0.00      0.00         0\n",
            "\n",
            "    accuracy                           0.35       418\n",
            "   macro avg       0.25      0.31      0.26       418\n",
            "weighted avg       0.37      0.35      0.34       418\n",
            "\n",
            "-----------------------------------------------\n",
            "Fold 8 :\n",
            "              precision    recall  f1-score   support\n",
            "\n",
            "           3       0.00      0.00      0.00         0\n",
            "           4       0.25      0.50      0.33         4\n",
            "           5       0.36      0.50      0.42        10\n",
            "           6       0.24      0.36      0.29        14\n",
            "           7       0.14      0.41      0.21        22\n",
            "           8       0.12      0.15      0.13        40\n",
            "           9       0.21      0.27      0.24        60\n",
            "          10       0.16      0.17      0.16        54\n",
            "          11       0.28      0.41      0.34        75\n",
            "          12       0.00      0.00      0.00        39\n",
            "          13       0.00      0.00      0.00        29\n",
            "          14       0.00      0.00      0.00        20\n",
            "          15       0.00      0.00      0.00        17\n",
            "          16       0.00      0.00      0.00        12\n",
            "          17       0.25      0.14      0.18         7\n",
            "          18       0.00      0.00      0.00         7\n",
            "          19       0.00      0.00      0.00         2\n",
            "          20       0.00      0.00      0.00         2\n",
            "          21       0.00      0.00      0.00         1\n",
            "          24       0.00      0.00      0.00         2\n",
            "          27       0.00      0.00      0.00         0\n",
            "\n",
            "    accuracy                           0.20       417\n",
            "   macro avg       0.10      0.14      0.11       417\n",
            "weighted avg       0.14      0.20      0.16       417\n",
            "\n",
            "-----------------------------------------------\n",
            "Fold 9 :\n",
            "              precision    recall  f1-score   support\n",
            "\n",
            "           3       0.40      1.00      0.57         2\n",
            "           4       0.50      0.60      0.55         5\n",
            "           5       0.25      0.58      0.35        12\n",
            "           6       0.41      0.45      0.43        29\n",
            "           7       0.28      0.42      0.33        43\n",
            "           8       0.31      0.23      0.26        71\n",
            "           9       0.30      0.26      0.28        78\n",
            "          10       0.32      0.24      0.27        72\n",
            "          11       0.34      0.68      0.45        53\n",
            "          12       0.00      0.00      0.00        16\n",
            "          13       0.00      0.00      0.00        18\n",
            "          14       0.00      0.00      0.00         4\n",
            "          15       0.00      0.00      0.00         2\n",
            "          16       0.00      0.00      0.00         2\n",
            "          17       0.00      0.00      0.00         2\n",
            "          18       0.00      0.00      0.00         3\n",
            "          19       0.00      0.00      0.00         4\n",
            "          20       0.00      0.00      0.00         1\n",
            "          27       0.00      0.00      0.00         0\n",
            "\n",
            "    accuracy                           0.32       417\n",
            "   macro avg       0.16      0.23      0.18       417\n",
            "weighted avg       0.28      0.32      0.28       417\n",
            "\n",
            "-----------------------------------------------\n",
            "Fold 10 :\n",
            "              precision    recall  f1-score   support\n",
            "\n",
            "           3       0.00      0.00      0.00         1\n",
            "           4       0.12      0.14      0.13         7\n",
            "           5       0.15      0.50      0.23         6\n",
            "           6       0.41      0.39      0.40        33\n",
            "           7       0.25      0.43      0.32        30\n",
            "           8       0.31      0.28      0.30        60\n",
            "           9       0.23      0.34      0.27        67\n",
            "          10       0.20      0.15      0.17        72\n",
            "          11       0.30      0.41      0.35        61\n",
            "          12       0.00      0.00      0.00        25\n",
            "          13       0.00      0.00      0.00        19\n",
            "          14       0.00      0.00      0.00        11\n",
            "          15       0.00      0.00      0.00         8\n",
            "          16       0.00      0.00      0.00         8\n",
            "          17       0.00      0.00      0.00         2\n",
            "          18       0.00      0.00      0.00         2\n",
            "          19       0.00      0.00      0.00         2\n",
            "          20       0.00      0.00      0.00         2\n",
            "          21       0.00      0.00      0.00         1\n",
            "          24       0.00      0.00      0.00         0\n",
            "          27       0.00      0.00      0.00         0\n",
            "\n",
            "    accuracy                           0.25       417\n",
            "   macro avg       0.09      0.13      0.10       417\n",
            "weighted avg       0.21      0.25      0.23       417\n",
            "\n",
            "-----------------------------------------------\n"
          ]
        }
      ]
    },
    {
      "cell_type": "code",
      "source": [
        "Acc=[]\n",
        "Precision=[]\n",
        "Recall=[]\n",
        "F1Score=[]\n",
        "for r in report:\n",
        "  Acc.append(r['accuracy'])\n",
        "  Precision.append(r['weighted avg']['precision'])\n",
        "  Recall.append(r['weighted avg']['recall'])\n",
        "  F1Score.append(r['weighted avg']['f1-score'])\n",
        "print('Average Accuracy cross-validation score:',np.mean(Acc))\n",
        "print('Average Precision cross-validation score:',np.mean(Precision))\n",
        "print('Average Recall cross-validation score:',np.mean(Recall))\n",
        "print('Average f1_score cross-validation score:',np.mean(F1Score))\n"
      ],
      "metadata": {
        "colab": {
          "base_uri": "https://localhost:8080/"
        },
        "id": "PinJbwlRciZ3",
        "outputId": "2e0b8b5c-def1-453c-a6fb-8ab41e62118d"
      },
      "execution_count": 477,
      "outputs": [
        {
          "output_type": "stream",
          "name": "stdout",
          "text": [
            "Average Accuracy cross-validation score: 0.23846224455842027\n",
            "Average Precision cross-validation score: 0.21833174419731205\n",
            "Average Recall cross-validation score: 0.23846224455842027\n",
            "Average f1_score cross-validation score: 0.2148453197337902\n"
          ]
        }
      ]
    },
    {
      "cell_type": "markdown",
      "source": [
        "## Model_Eval"
      ],
      "metadata": {
        "id": "cc2p31OscjXt"
      }
    },
    {
      "cell_type": "code",
      "source": [
        "gnb = GaussianNB()\n",
        "gnb.fit(X_train, y_train)\n",
        "y_pred = gnb.predict(X_test)"
      ],
      "metadata": {
        "id": "zPb8kQxUclCn"
      },
      "execution_count": 478,
      "outputs": []
    },
    {
      "cell_type": "code",
      "source": [
        "print(f'Test score {accuracy_score(y_pred,y_test)}')\n",
        "plot_confusionmatrix(y_pred,y_test,dom='Test')"
      ],
      "metadata": {
        "colab": {
          "base_uri": "https://localhost:8080/",
          "height": 523
        },
        "id": "59dp5xRKcmjA",
        "outputId": "76e72742-9f54-45d2-d090-ca6cfff8ba09"
      },
      "execution_count": 479,
      "outputs": [
        {
          "output_type": "stream",
          "name": "stdout",
          "text": [
            "Test score 0.21291866028708134\n",
            "Test Confusion matrix\n"
          ]
        },
        {
          "output_type": "display_data",
          "data": {
            "text/plain": [
              "<Figure size 640x480 with 2 Axes>"
            ],
            "image/png": "[encoded data removed]"
          },
          "metadata": {}
        }
      ]
    },
    {
      "cell_type": "code",
      "source": [
        "print(classification_report(y_test, y_pred,zero_division=0))"
      ],
      "metadata": {
        "colab": {
          "base_uri": "https://localhost:8080/"
        },
        "id": "qrj54cfwcpDq",
        "outputId": "1741b21e-28a4-4253-a375-afc5f3d2ab95"
      },
      "execution_count": 480,
      "outputs": [
        {
          "output_type": "stream",
          "name": "stdout",
          "text": [
            "              precision    recall  f1-score   support\n",
            "\n",
            "           3       1.00      1.00      1.00         2\n",
            "           4       0.27      0.75      0.40         4\n",
            "           5       0.13      0.38      0.19         8\n",
            "           6       0.24      0.29      0.26        24\n",
            "           7       0.25      0.41      0.31        39\n",
            "           8       0.19      0.20      0.20        49\n",
            "           9       0.20      0.22      0.21        74\n",
            "          10       0.23      0.25      0.24        71\n",
            "          11       0.19      0.30      0.24        43\n",
            "          12       0.00      0.00      0.00        33\n",
            "          13       0.00      0.00      0.00        16\n",
            "          14       0.00      0.00      0.00        15\n",
            "          15       0.00      0.00      0.00        12\n",
            "          16       0.00      0.00      0.00         8\n",
            "          17       0.50      0.20      0.29         5\n",
            "          18       0.00      0.00      0.00         7\n",
            "          19       0.00      0.00      0.00         3\n",
            "          20       0.00      0.00      0.00         2\n",
            "          21       0.00      0.00      0.00         3\n",
            "          27       0.00      0.00      0.00         0\n",
            "\n",
            "    accuracy                           0.21       418\n",
            "   macro avg       0.16      0.20      0.17       418\n",
            "weighted avg       0.17      0.21      0.18       418\n",
            "\n"
          ]
        }
      ]
    },
    {
      "cell_type": "code",
      "source": [],
      "metadata": {
        "id": "RQrFJRaOc6x7"
      },
      "execution_count": 480,
      "outputs": []
    }
  ]
}